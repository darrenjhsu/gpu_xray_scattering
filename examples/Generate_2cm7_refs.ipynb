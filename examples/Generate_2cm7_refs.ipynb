{
 "cells": [
  {
   "cell_type": "code",
   "execution_count": 1,
   "id": "05c70884",
   "metadata": {},
   "outputs": [],
   "source": [
    "import MDAnalysis as mda"
   ]
  },
  {
   "cell_type": "code",
   "execution_count": 2,
   "id": "f5a25838",
   "metadata": {},
   "outputs": [],
   "source": [
    "import numpy as np"
   ]
  },
  {
   "cell_type": "code",
   "execution_count": 3,
   "id": "6a2a9298",
   "metadata": {},
   "outputs": [],
   "source": [
    "Uw = mda.Universe('data/2CM7/wb.pdb')"
   ]
  },
  {
   "cell_type": "code",
   "execution_count": 4,
   "id": "3a0ae585",
   "metadata": {},
   "outputs": [],
   "source": [
    "Uc = mda.Universe('data/2CM7/2cm7_full.pdb')"
   ]
  },
  {
   "cell_type": "code",
   "execution_count": 5,
   "id": "9c13964c",
   "metadata": {},
   "outputs": [],
   "source": [
    "Uwc = mda.Merge(Uc.atoms, Uw.atoms)"
   ]
  },
  {
   "cell_type": "code",
   "execution_count": 14,
   "id": "b1e55457",
   "metadata": {},
   "outputs": [],
   "source": [
    "Uwc_no_overlap = Uwc.select_atoms('protein or resname IZD or resname HOH or (resname TIP3 and (same residue as not around 3.6 (protein or resname IZD)) and not element H)')"
   ]
  },
  {
   "cell_type": "code",
   "execution_count": 16,
   "id": "4bab79e1",
   "metadata": {},
   "outputs": [],
   "source": [
    "Uwc_good = mda.Merge(Uwc_no_overlap)"
   ]
  },
  {
   "cell_type": "code",
   "execution_count": 17,
   "id": "da2fb585",
   "metadata": {},
   "outputs": [],
   "source": [
    "Uwp_no_overlap = Uwc.select_atoms('protein or resname HOH or (resname TIP3 and (same residue as not around 3.6 protein) and not element H)')"
   ]
  },
  {
   "cell_type": "code",
   "execution_count": 18,
   "id": "39e75b11",
   "metadata": {},
   "outputs": [],
   "source": [
    "Uwp_good = mda.Merge(Uwp_no_overlap)"
   ]
  },
  {
   "cell_type": "code",
   "execution_count": 19,
   "id": "eb1702be",
   "metadata": {},
   "outputs": [
    {
     "data": {
      "text/plain": [
       "<Universe with 20726 atoms>"
      ]
     },
     "execution_count": 19,
     "metadata": {},
     "output_type": "execute_result"
    }
   ],
   "source": [
    "Uwp_good"
   ]
  },
  {
   "cell_type": "code",
   "execution_count": 20,
   "id": "f4317737",
   "metadata": {},
   "outputs": [
    {
     "data": {
      "text/plain": [
       "<Universe with 20749 atoms>"
      ]
     },
     "execution_count": 20,
     "metadata": {},
     "output_type": "execute_result"
    }
   ],
   "source": [
    "Uwc_good"
   ]
  },
  {
   "cell_type": "code",
   "execution_count": 21,
   "id": "d828b27c",
   "metadata": {},
   "outputs": [],
   "source": [
    "Uwp_good.select_atoms('all').write('data/2CM7/2cm7_apo_wb.pdb')\n",
    "Uwc_good.select_atoms('all').write('data/2CM7/2cm7_holo_wb.pdb')"
   ]
  },
  {
   "cell_type": "code",
   "execution_count": null,
   "id": "e9bb88c6",
   "metadata": {},
   "outputs": [],
   "source": []
  }
 ],
 "metadata": {
  "kernelspec": {
   "display_name": "Python 3 (ipykernel)",
   "language": "python",
   "name": "python3"
  },
  "language_info": {
   "codemirror_mode": {
    "name": "ipython",
    "version": 3
   },
   "file_extension": ".py",
   "mimetype": "text/x-python",
   "name": "python",
   "nbconvert_exporter": "python",
   "pygments_lexer": "ipython3",
   "version": "3.8.16"
  }
 },
 "nbformat": 4,
 "nbformat_minor": 5
}
