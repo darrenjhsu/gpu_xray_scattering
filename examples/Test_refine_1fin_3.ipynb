{
 "cells": [
  {
   "cell_type": "code",
   "execution_count": 1,
   "id": "6350f924",
   "metadata": {},
   "outputs": [],
   "source": [
    "import numpy as np\n",
    "from gpu_xray_scattering import XS\n",
    "from gpu_xray_scattering.Molecule import *\n",
    "import glob\n",
    "import MDAnalysis as mda\n",
    "from MDAnalysis.topology.guessers import guess_types\n",
    "from scipy.ndimage import binary_erosion, binary_dilation\n",
    "import numpy.polynomial.polynomial as poly\n",
    "import time\n",
    "import matplotlib.pyplot as plt\n",
    "\n",
    "def readPDB(fname, sel='protein', sel2=None, psf=None):\n",
    "\n",
    "    \n",
    "    if psf is not None:\n",
    "        U = mda.Universe(psf, fname)\n",
    "    else:\n",
    "        U = mda.Universe(fname)\n",
    "        \n",
    "    # Get radius\n",
    "    temp = PDB(fname)\n",
    "    t0 = time.time()\n",
    "    temp.calculate_unique_volume()\n",
    "    t1 = time.time()\n",
    "    print(f'Calculating unique volume took {t1-t0:.2f} s')\n",
    "    unique_radius = sphere_radius_from_volume(temp.unique_volume)\n",
    "    \n",
    "    Usel = U.select_atoms(sel)\n",
    "    \n",
    "    try:\n",
    "        print(Uele[:3])\n",
    "        Uele = Usel.elements\n",
    "    except:\n",
    "        guessed_elements = guess_types(U.atoms.names)\n",
    "        U.add_TopologyAttr('elements', guessed_elements)\n",
    "    \n",
    "    if sel2 is not None:\n",
    "        Usel2 = U.select_atoms(sel2)\n",
    "        return Usel.positions, Usel.elements, unique_radius[Usel.indices], \\\n",
    "               Usel2.positions, Usel2.elements, unique_radius[Usel2.indices]\n",
    "    else:\n",
    "        return Usel.positions, Usel.elements, unique_radius[Usel.indices]\n"
   ]
  },
  {
   "cell_type": "code",
   "execution_count": 2,
   "id": "b0b52771",
   "metadata": {},
   "outputs": [
    {
     "name": "stdout",
     "output_type": "stream",
     "text": [
      "Calculating unique volume took 15.84 s\n",
      "Calculating unique volume took 14.61 s\n"
     ]
    }
   ],
   "source": [
    "pro_coord1, pro_ele1, pro_radius1, pro_coord2, pro_ele2, pro_radius2 = readPDB('data/1FIN/1fin_ref.pdb', sel='protein', sel2='resname ATP')\n",
    "pro_coord, pro_ele, pro_radius = readPDB('data/1FIN/1fin_ref.pdb', sel='all')"
   ]
  },
  {
   "cell_type": "code",
   "execution_count": 3,
   "id": "99774c40",
   "metadata": {},
   "outputs": [
    {
     "data": {
      "text/plain": [
       "1.3892653495098803"
      ]
     },
     "execution_count": 3,
     "metadata": {},
     "output_type": "execute_result"
    }
   ],
   "source": [
    "pro_radius[pro_ele == 'C'].mean()"
   ]
  },
  {
   "cell_type": "code",
   "execution_count": 4,
   "id": "26d65137",
   "metadata": {},
   "outputs": [
    {
     "name": "stdout",
     "output_type": "stream",
     "text": [
      "[[-14.516 190.105 102.118]\n",
      " [-13.352 190.614 102.876]\n",
      " [-11.938 190.404 102.228]\n",
      " ...\n",
      " [ -9.802 207.234 110.625]\n",
      " [ -9.777 206.834 111.902]\n",
      " [-11.018 206.503 112.331]]\n"
     ]
    }
   ],
   "source": [
    "print(pro_coord)"
   ]
  },
  {
   "cell_type": "code",
   "execution_count": 5,
   "id": "c0a09da7",
   "metadata": {},
   "outputs": [],
   "source": [
    "# Create grid\n",
    "def create_grid(coord, pad=1, spacing=0.5, minsize=None):\n",
    "    # minsize is the side length of the box, can also be rectangular if input is a list/array of length 3\n",
    "    # otherwise ignored\n",
    "    minx, miny, minz = coord.min(0)\n",
    "    maxx, maxy, maxz = coord.max(0)\n",
    "    cenx, ceny, cenz = coord.min(0) + (coord.max(0) - coord.min(0)) / 2\n",
    "    if minsize is not None:\n",
    "        if np.isscalar(minsize):\n",
    "            minx = np.min([minx, cenx - minsize / 2])\n",
    "            miny = np.min([miny, ceny - minsize / 2])\n",
    "            minz = np.min([minz, cenz - minsize / 2])\n",
    "            maxx = np.max([maxx, cenx + minsize / 2])\n",
    "            maxy = np.max([maxy, ceny + minsize / 2])\n",
    "            maxz = np.max([maxz, cenz + minsize / 2])\n",
    "        elif len(minsize) == 3:\n",
    "            minx = np.min([minx, cenx - minsize[0] / 2])\n",
    "            miny = np.min([miny, ceny - minsize[1] / 2])\n",
    "            minz = np.min([minz, cenz - minsize[2] / 2])\n",
    "            maxx = np.max([maxx, cenx + minsize[0] / 2])\n",
    "            maxy = np.max([maxy, ceny + minsize[1] / 2])\n",
    "            maxz = np.max([maxz, cenz + minsize[2] / 2])\n",
    "        else:\n",
    "            print(f\"minsize is set as {minsize} but we don't know what to do with it\")\n",
    "    x_ = np.arange(minx - pad, maxx + pad, spacing)\n",
    "    y_ = np.arange(miny - pad, maxy + pad, spacing)\n",
    "    z_ = np.arange(minz - pad, maxz + pad, spacing)\n",
    "    numx = len(x_)\n",
    "    numy = len(y_)\n",
    "    numz = len(z_)\n",
    "    xyz = np.array([(x, y, z) for x in x_ for y in y_ for z in z_])\n",
    "    xyzd = np.array((numx, numy, numz))\n",
    "    print(f'Grid will be [{numx}, {numy}, {numz}] ({numx*numy*numz} elements)')\n",
    "    return xyz, xyzd"
   ]
  },
  {
   "cell_type": "code",
   "execution_count": 6,
   "id": "5a2e1a3d",
   "metadata": {},
   "outputs": [
    {
     "name": "stdout",
     "output_type": "stream",
     "text": [
      "Grid will be [18, 16, 27] (7776 elements)\n"
     ]
    }
   ],
   "source": [
    "spacing = 0.75\n",
    "pad = 3\n",
    "minsize = 0\n",
    "xyz, xyzd = create_grid(pro_coord2, spacing=spacing, pad=pad, minsize=minsize)"
   ]
  },
  {
   "cell_type": "code",
   "execution_count": 7,
   "id": "37e7ab63",
   "metadata": {},
   "outputs": [],
   "source": [
    "def overlap(coord1, coord2, radius=1):\n",
    "    # returns if points in coord2 overlaps with coord1 within radius\n",
    "    return (((coord1[:, :, None] - coord2[:, :, None].T)**2).sum(1) < radius**2).sum(0) == 0"
   ]
  },
  {
   "cell_type": "code",
   "execution_count": 8,
   "id": "7d738344",
   "metadata": {},
   "outputs": [],
   "source": [
    "allowed_points = overlap(pro_coord1, xyz, radius=2)"
   ]
  },
  {
   "cell_type": "code",
   "execution_count": 9,
   "id": "b80f9698",
   "metadata": {},
   "outputs": [
    {
     "data": {
      "text/plain": [
       "(7776,)"
      ]
     },
     "execution_count": 9,
     "metadata": {},
     "output_type": "execute_result"
    }
   ],
   "source": [
    "allowed_points.shape"
   ]
  },
  {
   "cell_type": "code",
   "execution_count": 10,
   "id": "d4a08acc",
   "metadata": {},
   "outputs": [],
   "source": [
    "allowed_points = allowed_points.reshape(xyzd)"
   ]
  },
  {
   "cell_type": "code",
   "execution_count": 11,
   "id": "937b71b6",
   "metadata": {},
   "outputs": [
    {
     "data": {
      "text/plain": [
       "4219"
      ]
     },
     "execution_count": 11,
     "metadata": {},
     "output_type": "execute_result"
    }
   ],
   "source": [
    "allowed_points.sum()"
   ]
  },
  {
   "cell_type": "code",
   "execution_count": 12,
   "id": "107b00ed",
   "metadata": {
    "scrolled": true
   },
   "outputs": [
    {
     "name": "stdout",
     "output_type": "stream",
     "text": [
      "[1.400e+01 4.135e+03 2.000e+00 2.200e+01 1.000e+00 3.000e+00 1.000e+00\n",
      " 1.000e+00 1.000e+00 1.000e+00 1.000e+00 1.000e+00 3.000e+00 1.000e+00\n",
      " 1.000e+00 1.000e+00 1.000e+00 1.500e+01 1.000e+00 1.000e+00 1.000e+00\n",
      " 1.000e+00 1.000e+00 1.000e+00 7.000e+00 1.000e+00]\n"
     ]
    }
   ],
   "source": [
    "# Segment allowed points \n",
    "# Pick largest feature\n",
    "struct = ndimage.generate_binary_structure(3, 1)\n",
    "labeled_support, num_features = ndimage.label(allowed_points, structure=struct)\n",
    "labeled_support = labeled_support.flatten()\n",
    "sums = np.zeros((num_features))\n",
    "\n",
    "#find the feature with the greatest number of electrons\n",
    "for feature in range(num_features+1):\n",
    "    sums[feature-1] = np.sum(allowed_points.flatten()[labeled_support==feature])\n",
    "print(sums)\n",
    "big_feature = np.argmax(sums)+1\n",
    "\n",
    "#remove features from the support that are not the primary feature\n",
    "allowed_points.ravel()[labeled_support != big_feature] = 0"
   ]
  },
  {
   "cell_type": "code",
   "execution_count": 13,
   "id": "9cd06e35",
   "metadata": {},
   "outputs": [],
   "source": [
    "def write_pdb_line(f,*j):\n",
    "    j = list(j)\n",
    "    j[0] = j[0].ljust(6)#atom#6s\n",
    "    j[1] = j[1].rjust(5)#aomnum#5d\n",
    "    j[2] = j[2].center(4)#atomname$#4s\n",
    "    j[3] = j[3].ljust(3)#resname#1s\n",
    "    j[4] = j[4].rjust(1) #Astring\n",
    "    j[5] = j[5].rjust(4) #resnum\n",
    "    j[6] = str('%8.3f' % (float(j[6]))).rjust(8) #x\n",
    "    j[7] = str('%8.3f' % (float(j[7]))).rjust(8)#y\n",
    "    j[8] = str('%8.3f' % (float(j[8]))).rjust(8) #z\\\n",
    "    j[9] =str('%6.2f'%(float(j[9]))).rjust(6)#occ\n",
    "    j[10]=str('%6.2f'%(float(j[10]))).ljust(6)#temp\n",
    "    j[11]=j[11].rjust(12)#elname\n",
    "    f.write(\"%s%s %s %s %s%s    %s%s%s%s%s%s\\n\"% (j[0],j[1],j[2],j[3],j[4],j[5],j[6],j[7],j[8],j[9],j[10],j[11]))\n",
    "            \n",
    "def write_out(xyz, weight, fname, grid=None, op=None, mode='w', save_space=True, save_neg=False):\n",
    "    with open(fname, mode) as f:\n",
    "        for i_ in range(len(xyz)):\n",
    "            if (weight[i_] > 0 or save_neg) or not save_space:\n",
    "                i = i_ + 1\n",
    "                write_pdb_line(f,'ATOM', str(i), 'X', 'X', 'A', '1', *xyz[i_], weight[i_]*100, 1.0, 'X')\n",
    "        f.write('END\\n')\n",
    "\n",
    "    if grid is not None:\n",
    "        if op is not None:\n",
    "            allowed = op.flatten()\n",
    "        else:\n",
    "            allowed = np.ones_like(weight)\n",
    "        with open(grid, mode) as f:\n",
    "            for i_ in range(len(xyz)):\n",
    "#                 if weight[i_] > 0:\n",
    "                    i = i_ + 1\n",
    "                    write_pdb_line(f,'ATOM', str(i), 'X', 'X', 'A', '1', *xyz[i_], allowed[i_], 1.0, 'X')\n",
    "            f.write('END\\n')"
   ]
  },
  {
   "cell_type": "code",
   "execution_count": 14,
   "id": "6ff5ef7a",
   "metadata": {},
   "outputs": [],
   "source": [
    "write_out(xyz, allowed_points.flatten(), 'allowed_points.pdb', op=allowed_points)"
   ]
  },
  {
   "cell_type": "code",
   "execution_count": 15,
   "id": "9cbac97e",
   "metadata": {},
   "outputs": [
    {
     "data": {
      "text/plain": [
       "4135"
      ]
     },
     "execution_count": 15,
     "metadata": {},
     "output_type": "execute_result"
    }
   ],
   "source": [
    "allowed_points.sum()"
   ]
  },
  {
   "cell_type": "code",
   "execution_count": 16,
   "id": "bdefee1d",
   "metadata": {},
   "outputs": [],
   "source": [
    "allowed_origins = binary_erosion(allowed_points, iterations=int(1/spacing))"
   ]
  },
  {
   "cell_type": "code",
   "execution_count": 17,
   "id": "ff262f5c",
   "metadata": {},
   "outputs": [],
   "source": [
    "def get_trial_sphere(xyz, allowed_origin, allowed_volume, dilation=2):\n",
    "    # Returns a list of length len(allowed_origin) which includes points for trial\n",
    "#     print(np.argwhere(allowed_origin))\n",
    "    \n",
    "    trial_list = []\n",
    "    trial_idx = []\n",
    "    for idx, (x, y, z) in enumerate(np.argwhere(allowed_origin)):\n",
    "        vol = np.zeros_like(allowed_volume)\n",
    "        if idx > 0 and idx % 1000 == 0:\n",
    "            print(idx)\n",
    "        vol[x, y, z] = True\n",
    "        vol = binary_dilation(vol, iterations=dilation) * allowed_volume\n",
    "        trial_list.append(xyz[np.argwhere(vol.ravel()).flatten()])\n",
    "        trial_idx.append(np.argwhere(vol.ravel()).flatten())\n",
    "#         print()\n",
    "    print('done')\n",
    "    return trial_list, trial_idx"
   ]
  },
  {
   "cell_type": "code",
   "execution_count": 18,
   "id": "143afecf",
   "metadata": {},
   "outputs": [
    {
     "data": {
      "text/plain": [
       "4135"
      ]
     },
     "execution_count": 18,
     "metadata": {},
     "output_type": "execute_result"
    }
   ],
   "source": [
    "allowed_points.sum()"
   ]
  },
  {
   "cell_type": "code",
   "execution_count": 19,
   "id": "8928edbf",
   "metadata": {
    "scrolled": true
   },
   "outputs": [
    {
     "name": "stdout",
     "output_type": "stream",
     "text": [
      "1000\n",
      "2000\n",
      "done\n",
      "2309\n"
     ]
    }
   ],
   "source": [
    "trial_list, trial_idx = \\\n",
    "    get_trial_sphere(xyz, allowed_origins, allowed_points, dilation=int(2.5/spacing))\n",
    "print(len(trial_list))"
   ]
  },
  {
   "cell_type": "code",
   "execution_count": 20,
   "id": "42944503",
   "metadata": {},
   "outputs": [],
   "source": [
    "write_out(xyz, allowed_origins.flatten(), 'allowed_origins.pdb', op=allowed_origins)"
   ]
  },
  {
   "cell_type": "code",
   "execution_count": 21,
   "id": "3bf80b5d",
   "metadata": {},
   "outputs": [],
   "source": [
    "scatter = XS.Scatter(q=np.linspace(0.03, 1.2, num=160), use_oa=1)"
   ]
  },
  {
   "cell_type": "code",
   "execution_count": 22,
   "id": "043bc40b",
   "metadata": {},
   "outputs": [],
   "source": [
    "pro_all = Molecule(coordinates=pro_coord, elements=pro_ele)\n",
    "pro = Molecule(coordinates=pro_coord1, elements=pro_ele1)\n",
    "pro_all.radius = pro_radius\n",
    "pro.radius = pro_radius1"
   ]
  },
  {
   "cell_type": "code",
   "execution_count": 23,
   "id": "75ff44cd",
   "metadata": {},
   "outputs": [
    {
     "data": {
      "text/plain": [
       "array([1.39999726, 1.33714421, 1.34018665, ..., 1.56497291, 1.56941258,\n",
       "       1.32766158])"
      ]
     },
     "execution_count": 23,
     "metadata": {},
     "output_type": "execute_result"
    }
   ],
   "source": [
    "pro.radius"
   ]
  },
  {
   "cell_type": "code",
   "execution_count": 24,
   "id": "e8efa428",
   "metadata": {},
   "outputs": [
    {
     "name": "stdout",
     "output_type": "stream",
     "text": [
      "(160,)\n",
      "Elapsed time = 8.210 ms\n",
      "(160,)\n",
      "(160,)\n"
     ]
    }
   ],
   "source": [
    "S_calc_all = scatter.scatter(pro_all, rho=0.334, timing=False)\n",
    "S_calc_all = scatter.scatter(pro_all, rho=0.334, timing=True)\n",
    "S_calc_pro_before = scatter.scatter(pro, rho=0.334, timing=False)\n",
    "S_err = S_calc_all * 0.03"
   ]
  },
  {
   "cell_type": "code",
   "execution_count": 25,
   "id": "734a131c",
   "metadata": {},
   "outputs": [
    {
     "data": {
      "image/png": "[encoded data removed]",
      "text/plain": [
       "<Figure size 640x480 with 1 Axes>"
      ]
     },
     "metadata": {},
     "output_type": "display_data"
    }
   ],
   "source": [
    "plt.plot(scatter.q, S_calc_all)\n",
    "plt.plot(scatter.q, S_calc_pro_before)\n",
    "plt.yscale('log')"
   ]
  },
  {
   "cell_type": "code",
   "execution_count": 26,
   "id": "bae19ad6",
   "metadata": {},
   "outputs": [
    {
     "data": {
      "text/plain": [
       "[<matplotlib.lines.Line2D at 0x7ff2b1483370>]"
      ]
     },
     "execution_count": 26,
     "metadata": {},
     "output_type": "execute_result"
    },
    {
     "data": {
      "image/png": "[encoded data removed]",
      "text/plain": [
       "<Figure size 640x480 with 1 Axes>"
      ]
     },
     "metadata": {},
     "output_type": "display_data"
    }
   ],
   "source": [
    "plt.plot(scatter.q, S_calc_all - S_calc_pro_before)"
   ]
  },
  {
   "cell_type": "code",
   "execution_count": 27,
   "id": "afae4d59",
   "metadata": {},
   "outputs": [],
   "source": [
    "# Solve for the scaling factor for trial density\n",
    "\n",
    "def res_func_analytical(Idata, Iprior, Icross, Iguess, sigqdata):\n",
    "    a = np.sum(2 * Icross * (Idata - Iprior) / sigqdata**2) # zeroth order term\n",
    "    b = np.sum(-(4 * Icross**2 - 2 * Iguess * (Idata - Iprior)) / sigqdata**2)\n",
    "    c = np.sum(-6 * Iguess * Icross / sigqdata**2)\n",
    "    d = np.sum(-2 * Iguess**2 / sigqdata**2)\n",
    "    eq = poly.Polynomial((a, b, c, d))\n",
    "    roots = eq.roots()\n",
    "#     print(f'analytical roots: {roots}')\n",
    "    chi = np.inf\n",
    "    root_best = 0\n",
    "    for root_c in roots[np.isreal(roots)]:\n",
    "        root = root_c.real\n",
    "        chi_this = np.sum(((Idata - Iprior - Icross * 2 * root - Iguess * root * root) / sigqdata)**2)/Idata.size\n",
    "        if chi_this < chi:\n",
    "            chi = chi_this\n",
    "            root_best = root\n",
    "#     print(f'analytical gives {chi} at {root_best}')\n",
    "    return root_best\n",
    "# Add to weight\n",
    "# Flatten negative weight"
   ]
  },
  {
   "cell_type": "code",
   "execution_count": 28,
   "id": "12077708",
   "metadata": {},
   "outputs": [],
   "source": [
    "import time\n",
    "from scipy import ndimage\n",
    "def refine(xyz, trial_list, op, S_calc_all, S_err, scatter, pro,\n",
    "           steps=10000,\n",
    "           timing_step=500,\n",
    "           flatten_step=100,\n",
    "           connectivity_step=1000,\n",
    "           weight_max=0.05,\n",
    "           struct_connectivity_A=4,\n",
    "           grid_spacing=0.75,\n",
    "           start_refine=5000,\n",
    "           rho=0.334,\n",
    "           do_trial=True,\n",
    "           write_traj=None,\n",
    "           write_fname=None,\n",
    "           input_weight=None,\n",
    "           enforce_positivity=True):\n",
    "    \n",
    "    n_origins = len(trial_list)\n",
    "    if input_weight is None:\n",
    "        weight = np.random.random(len(xyz))\n",
    "        weight[~op.flatten()] = 0\n",
    "        S_calc_pro, S_calc_trial, S_calc_cross = \\\n",
    "                scatter.cross_scatter(pro, prior=np.empty((0, 3)), weight_p=np.empty(0), \n",
    "                                      trial=xyz[op.flatten()], weight_t=weight[op.flatten()], \n",
    "                                      rho=rho, timing=True)\n",
    "        S_calc_pro_before = S_calc_pro.copy() # Initial curve\n",
    "\n",
    "        chi_zero = (((S_calc_all - S_calc_pro) / S_err)**2).sum() / (len(S_calc_all) - 1)\n",
    "        chi_before = (((S_calc_all - S_calc_pro - S_calc_trial - 2 * S_calc_cross) / S_err)**2).sum() / (len(S_calc_all) - 1)\n",
    "        scaling = res_func_analytical(S_calc_all, S_calc_pro, S_calc_cross, S_calc_trial, S_err)\n",
    "        print(f'Initial scaling: {scaling:.3f}')\n",
    "        weight[op.flatten()] *= scaling\n",
    "        weight_trial = weight.copy()\n",
    "        S_calc_pro, _, _ = \\\n",
    "                scatter.cross_scatter(pro, prior=xyz, weight_p=weight, \n",
    "                                      trial=xyz, rho=rho, timing=True)\n",
    "        chi_after = (((S_calc_all - S_calc_pro) / S_err)**2).sum() / (len(S_calc_all) - 1)\n",
    "        print(chi_zero, chi_before, chi_after, (weight>0).sum())\n",
    "    else:\n",
    "        weight = input_weight\n",
    "        \n",
    "    chi_trace = []\n",
    "    scale_trace = []\n",
    "    fine_timing_trace = []\n",
    "\n",
    "\n",
    "    timing_step = timing_step\n",
    "    flatten_step = flatten_step\n",
    "    connectivity_step = connectivity_step\n",
    "    weight_max = weight_max\n",
    "    struct_connectivity = int(struct_connectivity_A / spacing)\n",
    "    start_refine = start_refine\n",
    "    trial = do_trial\n",
    "    write_traj = write_traj\n",
    "    if trial:\n",
    "        weight_trial = weight.copy()\n",
    "\n",
    "    t0 = time.time()\n",
    "    t01 = time.time()\n",
    "    for idx in range(steps+1):\n",
    "\n",
    "        choice = np.random.choice(np.arange(n_origins))\n",
    "        if idx > start_refine:\n",
    "            while (weight[trial_idx[choice]] > 0).sum() < len(trial_idx[choice]) / 2:\n",
    "                # limit sampling to near existing density\n",
    "                choice = np.random.choice(np.arange(n_origins))\n",
    "        S_calc_pro, S_calc_trial, S_calc_cross = \\\n",
    "            scatter.cross_scatter(pro, prior=xyz[weight > 0], weight_p=weight[weight > 0], \n",
    "                                  trial=trial_list[choice], rho=rho, timing=False)\n",
    "        chi_before = (((S_calc_all - S_calc_pro) / S_err)**2).sum() / (len(S_calc_all) - 1)\n",
    "        scaling = res_func_analytical(S_calc_all, S_calc_pro, S_calc_cross, S_calc_trial, S_err)\n",
    "\n",
    "        if trial:\n",
    "            # Risk of increasing chi^2, so recalc \n",
    "            weight_trial[trial_idx[choice]] += scaling\n",
    "            if enforce_positivity:\n",
    "                weight_trial[weight_trial<0] = 0\n",
    "            S_calc_pro, S_calc_trial, S_calc_cross = \\\n",
    "                scatter.cross_scatter(pro, prior=xyz[weight_trial > 0], weight_p=weight_trial[weight_trial > 0], \n",
    "                                      trial=trial_list[choice], rho=rho, timing=False)\n",
    "            chi_after = (((S_calc_all - S_calc_pro) / S_err)**2).sum() / (len(S_calc_all) - 1)\n",
    "\n",
    "            if chi_after < chi_before:\n",
    "                weight = weight_trial.copy()\n",
    "                scale_trace.append(scaling)\n",
    "            else:\n",
    "                weight_trial = weight.copy()\n",
    "                scale_trace.append(np.nan)\n",
    "            chi = min(chi_after, chi_before)\n",
    "        else:\n",
    "            chi = chi_before\n",
    "            scale_trace.append(scaling)\n",
    "            weight[trial_idx[choice]] += scaling\n",
    "            if enforce_positivity:\n",
    "                weight[weight<0] = 0\n",
    "\n",
    "        chi_trace.append(chi)    \n",
    "\n",
    "        if flatten_step is not None and idx > 0 and idx % flatten_step == 0:\n",
    "            if enforce_positivity:\n",
    "            # flatten\n",
    "                weight[weight < weight.max() * weight_max] = 0\n",
    "            else:\n",
    "                weight[np.abs(weight) < np.abs(weight).max() * weight_max] = 0\n",
    "\n",
    "        if connectivity_step is not None and idx > 0 and idx % connectivity_step == 0:\n",
    "            \n",
    "            \n",
    "            # Pick largest feature\n",
    "            struct = ndimage.generate_binary_structure(3, 2)\n",
    "            labeled_support, num_features = ndimage.label(np.abs(weight).reshape(op.shape), structure=struct)\n",
    "            labeled_support = labeled_support.flatten()\n",
    "            sums = np.zeros((num_features))\n",
    "\n",
    "            #find the feature with the greatest number of electrons\n",
    "            for feature in range(num_features+1):\n",
    "                sums[feature-1] = np.sum(np.abs(weight)[labeled_support==feature])\n",
    "            big_feature = np.argmax(sums)+1\n",
    "\n",
    "            #remove features from the support that are not the primary feature\n",
    "            weight[labeled_support != big_feature] = 0\n",
    "            print()\n",
    "            print(f'Stray feature removal: Map has {num_features} blobs, removing {num_features-1} of them')\n",
    "            print(f'Zeroed {sums.sum() - np.max(sums):.2f} carbon-equivalents, {np.max(sums):.2f} remaining')\n",
    "\n",
    "            # Smooth\n",
    "            weight = ndimage.gaussian_filter(weight, sigma=1)\n",
    "            \n",
    "        if write_traj is not None and idx > 0 and idx % write_traj == 0:\n",
    "            if idx == write_traj:\n",
    "                write_out(xyz, weight, 'traj.pdb', mode='w', save_space=False)\n",
    "            else:\n",
    "                write_out(xyz, weight, 'traj.pdb', mode='a', save_space=False)\n",
    "\n",
    "\n",
    "        if timing_step is not None and idx > 0 and idx % timing_step == 0:\n",
    "            t1 = time.time()\n",
    "            if idx == timing_step:\n",
    "                t2 = t0\n",
    "            print(f'Timing step {idx}: {(t1 - t0):.2f}s ({(t1-t0)/idx*1000:.2f} ms/step | {idx/(t1-t0):.2f} steps/s | ', end='')\n",
    "            print(f'this {timing_step} steps: {timing_step/(t1-t2):.2f} steps/s)')\n",
    "            t2 = time.time()\n",
    "\n",
    "        print(f'Step {idx:4d}: scaling = {scaling:.4e}, chi^2 = {chi:.4e}', end='\\r')\n",
    "        t00 = time.time()\n",
    "        fine_timing_trace.append(t00 - t01)\n",
    "        t01 = time.time()\n",
    "    final_S_calc, _ , _ = \\\n",
    "            scatter.cross_scatter(pro, prior=xyz[weight_trial > 0], weight_p=weight_trial[weight_trial > 0], \n",
    "                                  trial=trial_list[choice], rho=rho, timing=False)\n",
    "    return weight, chi_trace, scale_trace, fine_timing_trace, final_S_calc"
   ]
  },
  {
   "cell_type": "code",
   "execution_count": 44,
   "id": "adfd9b01",
   "metadata": {
    "scrolled": true
   },
   "outputs": [
    {
     "name": "stdout",
     "output_type": "stream",
     "text": [
      "\n",
      "\n",
      "### Run 0 ###\n",
      "Elapsed time = 68.796 ms\n",
      "Initial scaling: 0.032\n",
      "Elapsed time = 158.262 ms\n",
      "3.2772794416372015 73967.76920163966 2.6517139629206925 4135\n",
      "Timing step 500: 7.97s (15.94 ms/step | 62.72 steps/s | this 500 steps: 62.72 steps/s)\n",
      "Step  999: scaling = -1.9283e-04, chi^2 = 1.0630e-02\n",
      "Stray feature removal: Map has 14 blobs, removing 13 of them\n",
      "Zeroed 0.52 carbon-equivalents, 68.65 remaining\n",
      "Timing step 1000: 15.66s (15.66 ms/step | 63.87 steps/s | this 500 steps: 65.07 steps/s)\n",
      "Timing step 1500: 24.35s (16.23 ms/step | 61.61 steps/s | this 500 steps: 57.53 steps/s)\n",
      "Step 1999: scaling = -2.3492e-03, chi^2 = 3.8589e-03\n",
      "Stray feature removal: Map has 5 blobs, removing 4 of them\n",
      "Zeroed 0.66 carbon-equivalents, 64.79 remaining\n",
      "Timing step 2000: 32.89s (16.45 ms/step | 60.80 steps/s | this 500 steps: 58.52 steps/s)\n",
      "Timing step 2500: 41.74s (16.70 ms/step | 59.89 steps/s | this 500 steps: 56.51 steps/s)\n",
      "Step 2999: scaling = -6.9749e-04, chi^2 = 1.5715e-03\n",
      "Stray feature removal: Map has 2 blobs, removing 1 of them\n",
      "Zeroed 0.02 carbon-equivalents, 63.03 remaining\n",
      "Timing step 3000: 50.76s (16.92 ms/step | 59.10 steps/s | this 500 steps: 55.41 steps/s)\n",
      "Timing step 3500: 59.30s (16.94 ms/step | 59.02 steps/s | this 500 steps: 58.55 steps/s)\n",
      "Step 3999: scaling = -6.4244e-04, chi^2 = 1.0524e-03\n",
      "Stray feature removal: Map has 2 blobs, removing 1 of them\n",
      "Zeroed 0.12 carbon-equivalents, 63.12 remaining\n",
      "Timing step 4000: 68.23s (17.06 ms/step | 58.63 steps/s | this 500 steps: 56.03 steps/s)\n",
      "Timing step 4500: 76.99s (17.11 ms/step | 58.45 steps/s | this 500 steps: 57.07 steps/s)\n",
      "Step 4999: scaling = -1.0636e-04, chi^2 = 7.7346e-04\n",
      "Stray feature removal: Map has 3 blobs, removing 2 of them\n",
      "Zeroed 0.13 carbon-equivalents, 63.81 remaining\n",
      "Timing step 5000: 85.62s (17.12 ms/step | 58.40 steps/s | this 500 steps: 57.93 steps/s)\n",
      "Step 5000: scaling = -7.9057e-04, chi^2 = 7.7324e-04\r"
     ]
    }
   ],
   "source": [
    "weight_list = []\n",
    "chi_list = []\n",
    "for idx in range(1):\n",
    "    print(f'\\n\\n### Run {idx} ###')\n",
    "    weight, chi_trace, scale_trace, fine_timing_trace, final_S_calc = \\\n",
    "        refine(xyz, trial_list, allowed_points, S_calc_all, S_err, scatter, pro,\n",
    "               grid_spacing=spacing, steps=5000, do_trial=False, rho=0.334,\n",
    "               weight_max=0.05, enforce_positivity=True)#, input_weight=weight.copy())\n",
    "    weight_list.append(weight)\n",
    "    chi_list.append(chi_trace[-1])"
   ]
  },
  {
   "cell_type": "code",
   "execution_count": 45,
   "id": "f5d12856",
   "metadata": {},
   "outputs": [],
   "source": [
    "weight_list = np.array(weight_list)"
   ]
  },
  {
   "cell_type": "code",
   "execution_count": 46,
   "id": "5e4a8bac",
   "metadata": {},
   "outputs": [
    {
     "data": {
      "text/plain": [
       "(7776,)"
      ]
     },
     "execution_count": 46,
     "metadata": {},
     "output_type": "execute_result"
    }
   ],
   "source": [
    "weight_list.mean(0).shape"
   ]
  },
  {
   "cell_type": "code",
   "execution_count": 47,
   "id": "dde0ccca",
   "metadata": {},
   "outputs": [],
   "source": [
    "for idx, w in enumerate(weight_list):\n",
    "    write_out(xyz, w, f'run_ex{idx}p.pdb', save_neg=False)"
   ]
  },
  {
   "cell_type": "code",
   "execution_count": 33,
   "id": "7f25c511",
   "metadata": {},
   "outputs": [],
   "source": [
    "# write_out(xyz, weight_list.mean(0), 'run_ex_average.pdb')"
   ]
  },
  {
   "cell_type": "code",
   "execution_count": 43,
   "id": "2f4dab2b",
   "metadata": {},
   "outputs": [
    {
     "data": {
      "text/plain": [
       "Text(0, 0.5, 'Timing (ms)')"
      ]
     },
     "execution_count": 43,
     "metadata": {},
     "output_type": "execute_result"
    },
    {
     "data": {
      "image/png": "[encoded data removed]",
      "text/plain": [
       "<Figure size 640x480 with 3 Axes>"
      ]
     },
     "metadata": {},
     "output_type": "display_data"
    }
   ],
   "source": [
    "import matplotlib.pyplot as plt\n",
    "fig, ax = plt.subplots(3, 1)\n",
    "ax[0].plot(chi_trace)\n",
    "ax[0].set_yscale('log')\n",
    "ax[0].set_ylabel('chi2')\n",
    "ax[1].plot(np.abs(scale_trace),'.', markersize=2)\n",
    "ax[1].set_ylabel('scaling')\n",
    "ax[1].set_yscale('log')\n",
    "ax[2].plot(np.array(fine_timing_trace)*1000,'.', markersize=2)\n",
    "ax[2].set_ylabel('Timing (ms)')\n"
   ]
  },
  {
   "cell_type": "code",
   "execution_count": 35,
   "id": "16a323c0",
   "metadata": {
    "scrolled": false
   },
   "outputs": [
    {
     "data": {
      "text/plain": [
       "<matplotlib.legend.Legend at 0x7ff2b11bf0a0>"
      ]
     },
     "execution_count": 35,
     "metadata": {},
     "output_type": "execute_result"
    },
    {
     "data": {
      "image/png": "[encoded data removed]",
      "text/plain": [
       "<Figure size 640x480 with 1 Axes>"
      ]
     },
     "metadata": {},
     "output_type": "display_data"
    }
   ],
   "source": [
    "\n",
    "plt.plot(scatter.q, S_calc_all, label='target')\n",
    "plt.yscale('log')\n",
    "plt.plot(scatter.q, S_calc_pro_before, label='before')\n",
    "plt.plot(scatter.q, final_S_calc, label='after')\n",
    "# plt.plot(scatter.q, S_calc_trial, label='chain B')\n",
    "# plt.plot(scatter.q, S_calc_cross, label='chain A x chain B')\n",
    "# plt.plot(scatter.q, S_calc_pro + S_calc_trial + 2 * S_calc_cross, label='trial')\n",
    "plt.legend()"
   ]
  },
  {
   "cell_type": "code",
   "execution_count": 36,
   "id": "1f259e8d",
   "metadata": {},
   "outputs": [
    {
     "data": {
      "text/plain": [
       "<matplotlib.legend.Legend at 0x7ff2b0ff3100>"
      ]
     },
     "execution_count": 36,
     "metadata": {},
     "output_type": "execute_result"
    },
    {
     "data": {
      "image/png": "[encoded data removed]",
      "text/plain": [
       "<Figure size 640x480 with 1 Axes>"
      ]
     },
     "metadata": {},
     "output_type": "display_data"
    }
   ],
   "source": [
    "# plt.plot(scatter.q, S_calc_all, label='target')\n",
    "# plt.yscale('log')\n",
    "plt.plot(scatter.q, S_calc_all -S_calc_pro_before, label='before')\n",
    "plt.plot(scatter.q, S_calc_all - final_S_calc, label='after')\n",
    "# plt.plot(scatter.q, S_calc_trial, label='chain B')\n",
    "# plt.plot(scatter.q, S_calc_cross, label='chain A x chain B')\n",
    "# plt.plot(scatter.q, S_calc_pro + S_calc_trial + 2 * S_calc_cross, label='separate')\n",
    "plt.legend()"
   ]
  },
  {
   "cell_type": "code",
   "execution_count": 44,
   "id": "bb2fa928",
   "metadata": {},
   "outputs": [],
   "source": [
    "write_out(xyz, allowed_points.flatten(), 'test.pdb', grid='grid.pdb', op=allowed_points)"
   ]
  },
  {
   "cell_type": "code",
   "execution_count": 142,
   "id": "d908d7d8",
   "metadata": {},
   "outputs": [
    {
     "ename": "NameError",
     "evalue": "name 'S_calc_pro' is not defined",
     "output_type": "error",
     "traceback": [
      "\u001b[0;31m---------------------------------------------------------------------------\u001b[0m",
      "\u001b[0;31mNameError\u001b[0m                                 Traceback (most recent call last)",
      "Cell \u001b[0;32mIn[142], line 2\u001b[0m\n\u001b[1;32m      1\u001b[0m \u001b[38;5;28;01mimport\u001b[39;00m \u001b[38;5;21;01mmatplotlib\u001b[39;00m\u001b[38;5;21;01m.\u001b[39;00m\u001b[38;5;21;01mpyplot\u001b[39;00m \u001b[38;5;28;01mas\u001b[39;00m \u001b[38;5;21;01mplt\u001b[39;00m\n\u001b[0;32m----> 2\u001b[0m plt\u001b[38;5;241m.\u001b[39mplot(scatter\u001b[38;5;241m.\u001b[39mq, (S_calc_all \u001b[38;5;241m-\u001b[39m \u001b[43mS_calc_pro\u001b[49m) \u001b[38;5;241m/\u001b[39m S_calc_all)\n",
      "\u001b[0;31mNameError\u001b[0m: name 'S_calc_pro' is not defined"
     ]
    }
   ],
   "source": [
    "import matplotlib.pyplot as plt\n",
    "plt.plot(scatter.q, (S_calc_all - S_calc_pro) / S_calc_all)"
   ]
  },
  {
   "cell_type": "code",
   "execution_count": null,
   "id": "8b0ecfbe",
   "metadata": {},
   "outputs": [],
   "source": []
  },
  {
   "cell_type": "code",
   "execution_count": null,
   "id": "3613b2dc",
   "metadata": {},
   "outputs": [],
   "source": []
  },
  {
   "cell_type": "code",
   "execution_count": null,
   "id": "b381a8d1",
   "metadata": {},
   "outputs": [],
   "source": []
  },
  {
   "cell_type": "code",
   "execution_count": null,
   "id": "a0cbaba7",
   "metadata": {},
   "outputs": [],
   "source": []
  }
 ],
 "metadata": {
  "kernelspec": {
   "display_name": "Python 3 (ipykernel)",
   "language": "python",
   "name": "python3"
  },
  "language_info": {
   "codemirror_mode": {
    "name": "ipython",
    "version": 3
   },
   "file_extension": ".py",
   "mimetype": "text/x-python",
   "name": "python",
   "nbconvert_exporter": "python",
   "pygments_lexer": "ipython3",
   "version": "3.8.16"
  }
 },
 "nbformat": 4,
 "nbformat_minor": 5
}
