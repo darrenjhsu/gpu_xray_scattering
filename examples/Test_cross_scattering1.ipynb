{
 "cells": [
  {
   "cell_type": "code",
   "execution_count": 1,
   "id": "6350f924",
   "metadata": {},
   "outputs": [],
   "source": [
    "import numpy as np\n",
    "from gpu_xray_scattering import XS\n",
    "from gpu_xray_scattering.Molecule import Molecule\n",
    "import glob\n",
    "import MDAnalysis as mda\n",
    "from MDAnalysis.topology.guessers import guess_types\n",
    "\n",
    "def readPDB(fname, sel='protein', sel2=None, psf=None):\n",
    "    if psf is not None:\n",
    "        U = mda.Universe(psf, fname)\n",
    "    else:\n",
    "        U = mda.Universe(fname)\n",
    "    Usel = U.select_atoms(sel)\n",
    "    try:\n",
    "        print(Uele[:3])\n",
    "        Uele = Usel.elements\n",
    "    except:\n",
    "        guessed_elements = guess_types(U.atoms.names)\n",
    "        U.add_TopologyAttr('elements', guessed_elements)\n",
    "        \n",
    "    \n",
    "    if sel2 is not None:\n",
    "        Usel2 = U.select_atoms(sel2)\n",
    "        return Usel.positions, Usel.elements, Usel2.positions, Usel2.elements\n",
    "    else:\n",
    "        return Usel.positions, Usel.elements\n"
   ]
  },
  {
   "cell_type": "code",
   "execution_count": 2,
   "id": "b0b52771",
   "metadata": {},
   "outputs": [],
   "source": [
    "pro_coord1, pro_ele1, pro_coord2, pro_ele2 = readPDB('data/1fin_C.pdb', sel='protein', sel2='resname ATP')\n",
    "pro_coord, pro_ele = readPDB('data/1fin_C.pdb', sel='all')"
   ]
  },
  {
   "cell_type": "code",
   "execution_count": 3,
   "id": "3bf80b5d",
   "metadata": {},
   "outputs": [],
   "source": [
    "scatter = XS.Scatter(use_oa=1)"
   ]
  },
  {
   "cell_type": "code",
   "execution_count": 4,
   "id": "043bc40b",
   "metadata": {},
   "outputs": [],
   "source": [
    "pro_all = Molecule(coordinates=pro_coord, elements=pro_ele)\n",
    "pro = Molecule(coordinates=pro_coord1, elements=pro_ele1)"
   ]
  },
  {
   "cell_type": "code",
   "execution_count": 5,
   "id": "e8efa428",
   "metadata": {},
   "outputs": [
    {
     "name": "stdout",
     "output_type": "stream",
     "text": [
      "Elapsed time = 396.851 ms\n",
      "Elapsed time = 6.245 ms\n",
      "[2.52867856e+08 2.52013504e+08 2.49456768e+08 2.45251936e+08\n",
      " 2.39481552e+08 2.32258032e+08 2.23719680e+08 2.14026336e+08\n",
      " 2.03355168e+08 1.91894784e+08]\n"
     ]
    }
   ],
   "source": [
    "S_calc_all = scatter.scatter(pro_all, timing=True)\n",
    "S_calc_all = scatter.scatter(pro_all, timing=True)\n",
    "print(S_calc_all[:10])"
   ]
  },
  {
   "cell_type": "code",
   "execution_count": 6,
   "id": "6968dbfe",
   "metadata": {},
   "outputs": [
    {
     "name": "stdout",
     "output_type": "stream",
     "text": [
      "Elapsed time = 20.620 ms\n"
     ]
    }
   ],
   "source": [
    "S_calc_pro, S_calc_trial, S_calc_cross = \\\n",
    "    scatter.cross_scatter(pro, prior=np.empty((0, 3)), weight=np.empty(0), trial=pro_coord2, timing=True)"
   ]
  },
  {
   "cell_type": "code",
   "execution_count": 7,
   "id": "9475e62e",
   "metadata": {},
   "outputs": [
    {
     "data": {
      "text/plain": [
       "array([2.46989840e+08, 2.46149728e+08, 2.43636128e+08, 2.39502560e+08,\n",
       "       2.33830816e+08, 2.26731872e+08, 2.18342432e+08, 2.08820496e+08,\n",
       "       1.98341024e+08, 1.87090400e+08])"
      ]
     },
     "execution_count": 7,
     "metadata": {},
     "output_type": "execute_result"
    }
   ],
   "source": [
    "S_calc_pro[:10]"
   ]
  },
  {
   "cell_type": "code",
   "execution_count": 8,
   "id": "ee7c13c9",
   "metadata": {},
   "outputs": [
    {
     "data": {
      "text/plain": [
       "array([34563.6875    , 34557.1796875 , 34537.64453125, 34505.125     ,\n",
       "       34459.64453125, 34401.28125   , 34330.1328125 , 34246.25      ,\n",
       "       34149.78125   , 34040.8515625 ])"
      ]
     },
     "execution_count": 8,
     "metadata": {},
     "output_type": "execute_result"
    }
   ],
   "source": [
    "S_calc_trial[:10]"
   ]
  },
  {
   "cell_type": "code",
   "execution_count": 9,
   "id": "d031ab80",
   "metadata": {},
   "outputs": [
    {
     "data": {
      "text/plain": [
       "array([5843587.5, 5829180.5, 5786024.5, 5714725. , 5616203.5, 5491733. ,\n",
       "       5342906. , 5171598. , 4979948. , 4770301.5])"
      ]
     },
     "execution_count": 9,
     "metadata": {},
     "output_type": "execute_result"
    }
   ],
   "source": [
    "S_calc_cross[:10]"
   ]
  },
  {
   "cell_type": "code",
   "execution_count": 11,
   "id": "86793ece",
   "metadata": {},
   "outputs": [
    {
     "data": {
      "text/plain": [
       "array([-5.34617180e-07,  1.52056584e-07,  3.12100046e-07,  5.94796528e-07,\n",
       "        3.04221633e-07,  1.10733522e-07,  5.30448975e-08, -1.98573693e-08,\n",
       "        2.27280922e-07,  2.17037882e-07])"
      ]
     },
     "execution_count": 11,
     "metadata": {},
     "output_type": "execute_result"
    }
   ],
   "source": [
    "((S_calc_all - S_calc_pro - S_calc_trial - S_calc_cross) / S_calc_all)[:10]"
   ]
  },
  {
   "cell_type": "code",
   "execution_count": 12,
   "id": "16a323c0",
   "metadata": {
    "scrolled": false
   },
   "outputs": [
    {
     "data": {
      "text/plain": [
       "[<matplotlib.lines.Line2D at 0x7f0cd96278e0>]"
      ]
     },
     "execution_count": 12,
     "metadata": {},
     "output_type": "execute_result"
    },
    {
     "data": {
      "image/png": "[encoded data removed]",
      "text/plain": [
       "<Figure size 640x480 with 1 Axes>"
      ]
     },
     "metadata": {},
     "output_type": "display_data"
    }
   ],
   "source": [
    "import matplotlib.pyplot as plt\n",
    "plt.plot(scatter.q, S_calc_all)\n",
    "plt.yscale('log')\n",
    "# plt.plot(scatter.q, S_calc_pro)\n",
    "# plt.plot(scatter.q, S_calc_trial)\n",
    "# plt.plot(scatter.q, S_calc_cross)\n",
    "plt.plot(scatter.q, S_calc_pro + S_calc_trial + S_calc_cross)"
   ]
  },
  {
   "cell_type": "code",
   "execution_count": 13,
   "id": "d908d7d8",
   "metadata": {},
   "outputs": [
    {
     "data": {
      "text/plain": [
       "[<matplotlib.lines.Line2D at 0x7f0cd93e3220>]"
      ]
     },
     "execution_count": 13,
     "metadata": {},
     "output_type": "execute_result"
    },
    {
     "data": {
      "image/png": "[encoded data removed]",
      "text/plain": [
       "<Figure size 640x480 with 1 Axes>"
      ]
     },
     "metadata": {},
     "output_type": "display_data"
    }
   ],
   "source": [
    "import matplotlib.pyplot as plt\n",
    "plt.plot(scatter.q, S_calc_pro + S_calc_trial + S_calc_cross - S_calc_all)"
   ]
  },
  {
   "cell_type": "code",
   "execution_count": null,
   "id": "8b0ecfbe",
   "metadata": {},
   "outputs": [],
   "source": []
  },
  {
   "cell_type": "code",
   "execution_count": null,
   "id": "3613b2dc",
   "metadata": {},
   "outputs": [],
   "source": []
  },
  {
   "cell_type": "code",
   "execution_count": null,
   "id": "b381a8d1",
   "metadata": {},
   "outputs": [],
   "source": []
  },
  {
   "cell_type": "code",
   "execution_count": null,
   "id": "a0cbaba7",
   "metadata": {},
   "outputs": [],
   "source": []
  }
 ],
 "metadata": {
  "kernelspec": {
   "display_name": "Python 3 (ipykernel)",
   "language": "python",
   "name": "python3"
  },
  "language_info": {
   "codemirror_mode": {
    "name": "ipython",
    "version": 3
   },
   "file_extension": ".py",
   "mimetype": "text/x-python",
   "name": "python",
   "nbconvert_exporter": "python",
   "pygments_lexer": "ipython3",
   "version": "3.8.16"
  }
 },
 "nbformat": 4,
 "nbformat_minor": 5
}
