{
 "cells": [
  {
   "cell_type": "code",
   "execution_count": 15,
   "id": "6350f924",
   "metadata": {},
   "outputs": [],
   "source": [
    "import numpy as np\n",
    "from gpu_xray_scattering import XS\n",
    "from gpu_xray_scattering.Molecule import Molecule\n",
    "import glob\n",
    "import MDAnalysis as mda\n",
    "from MDAnalysis.topology.guessers import guess_types\n",
    "\n",
    "def readPDB(fname, sel='protein', psf=None):\n",
    "    if psf is not None:\n",
    "        U = mda.Universe(psf, fname)\n",
    "    else:\n",
    "        U = mda.Universe(fname)\n",
    "    Usel = U.select_atoms(sel)\n",
    "    Upos = Usel.positions\n",
    "    try:\n",
    "        print(Uele[:3])\n",
    "        Uele = Usel.elements\n",
    "    except:\n",
    "        guessed_elements = guess_types(U.atoms.names)\n",
    "        U.add_TopologyAttr('elements', guessed_elements)\n",
    "        Uele = Usel.elements\n",
    "        \n",
    "    return Usel.positions, Usel.elements\n"
   ]
  },
  {
   "cell_type": "code",
   "execution_count": 2,
   "id": "efc76b2a",
   "metadata": {},
   "outputs": [
    {
     "name": "stdout",
     "output_type": "stream",
     "text": [
      "Elapsed time = 390.934 ms\n",
      "Elapsed time = 2.312 ms\n"
     ]
    }
   ],
   "source": [
    "scatter = XS.Scatter(use_oa=0)\n",
    "scatter_oa = XS.Scatter(use_oa=1)\n",
    "pro_coord, pro_ele = readPDB('1L2Y.pdb') # Or generate numpy arrays yourself\n",
    "pro = Molecule(coordinates=pro_coord, elements=pro_ele)\n",
    "S_calc = scatter.scatter(pro, timing=True)\n",
    "S_calc_oa = scatter_oa.scatter(pro, timing=True)\n"
   ]
  },
  {
   "cell_type": "code",
   "execution_count": 3,
   "id": "335519de",
   "metadata": {},
   "outputs": [
    {
     "data": {
      "image/png": "[encoded data removed]",
      "text/plain": [
       "<Figure size 640x480 with 1 Axes>"
      ]
     },
     "metadata": {},
     "output_type": "display_data"
    }
   ],
   "source": [
    "import matplotlib.pyplot as plt\n",
    "plt.plot(scatter.q, S_calc)\n",
    "plt.plot(scatter.q, S_calc_oa)\n",
    "plt.yscale('log')"
   ]
  },
  {
   "cell_type": "code",
   "execution_count": 16,
   "id": "da24a664",
   "metadata": {},
   "outputs": [
    {
     "name": "stdout",
     "output_type": "stream",
     "text": [
      "Selection data/1lst_wb_Cl.pdb has 3649 atoms\n",
      "Vanilla 1\n",
      "Elapsed time = 135.547 ms\n",
      "Vanilla 2\n",
      "Elapsed time = 102.195 ms\n",
      "Relative difference (within vanilla): mean 0.000e+00, max 0.000e+00 at idx 0: vanilla is 193169600.0 and vanilla 2 is 193169600.0\n",
      "Orientational average 1\n",
      "Elapsed time = 38.515 ms\n",
      "Orientational average 2\n",
      "Elapsed time = 32.258 ms\n",
      "Relative difference (within OA): mean 0.000e+00, max 0.000e+00 at idx 0: OA1 is 193167136.0 and OA2 is 193167136.0\n",
      "Relative difference (OA vs vanilla): mean 6.479e-05, max 2.293e-04 at idx 144: vanilla is 118611.5234375 and oa is 118584.328125\n",
      "\n",
      "Selection data/1ova.pdb has 11504 atoms\n",
      "Vanilla 1\n",
      "Elapsed time = 237.316 ms\n",
      "Vanilla 2\n",
      "Elapsed time = 211.069 ms\n",
      "Relative difference (within vanilla): mean 0.000e+00, max 0.000e+00 at idx 0: vanilla is 5785816064.0 and vanilla 2 is 5785816064.0\n",
      "Orientational average 1\n",
      "Elapsed time = 21.765 ms\n",
      "Orientational average 2\n",
      "Elapsed time = 21.378 ms\n",
      "Relative difference (within OA): mean 0.000e+00, max 0.000e+00 at idx 0: OA1 is 5785964032.0 and OA2 is 5785964032.0\n",
      "Relative difference (OA vs vanilla): mean 3.364e-03, max 2.202e-02 at idx 193: vanilla is 367749.28125 and oa is 375845.78125\n",
      "\n",
      "Selection data/1rcx.pdb has 37456 atoms\n",
      "Orientational average 1\n",
      "Elapsed time = 21.735 ms\n",
      "Orientational average 2\n",
      "Elapsed time = 19.783 ms\n",
      "Relative difference (within OA): mean 0.000e+00, max 0.000e+00 at idx 0: OA1 is 5785964032.0 and OA2 is 5785964032.0\n",
      "Selection data/1v9e.pdb has 4108 atoms\n",
      "Vanilla 1\n",
      "Elapsed time = 29.056 ms\n",
      "Vanilla 2\n",
      "Elapsed time = 29.900 ms\n",
      "Relative difference (within vanilla): mean 0.000e+00, max 0.000e+00 at idx 0: vanilla is 726077056.0 and vanilla 2 is 726077056.0\n",
      "Orientational average 1\n",
      "Elapsed time = 8.863 ms\n",
      "Orientational average 2\n",
      "Elapsed time = 8.240 ms\n",
      "Relative difference (within OA): mean 0.000e+00, max 0.000e+00 at idx 0: OA1 is 726119232.0 and OA2 is 726119232.0\n",
      "Relative difference (OA vs vanilla): mean 6.838e-03, max 4.870e-02 at idx 141: vanilla is 221386.8125 and oa is 232168.546875\n",
      "\n",
      "Selection data/2lao.pdb has 1822 atoms\n",
      "Vanilla 1\n",
      "Elapsed time = 7.395 ms\n",
      "Vanilla 2\n",
      "Elapsed time = 7.163 ms\n",
      "Relative difference (within vanilla): mean 0.000e+00, max 0.000e+00 at idx 0: vanilla is 144157296.0 and vanilla 2 is 144157296.0\n",
      "Orientational average 1\n",
      "Elapsed time = 3.840 ms\n",
      "Orientational average 2\n",
      "Elapsed time = 3.970 ms\n",
      "Relative difference (within OA): mean 0.000e+00, max 0.000e+00 at idx 0: OA1 is 144156048.0 and OA2 is 144156048.0\n",
      "Relative difference (OA vs vanilla): mean 1.265e-04, max 1.727e-03 at idx 199: vanilla is 57093.17578125 and oa is 57191.765625\n",
      "\n",
      "Selection data/3v03.pdb has 8774 atoms\n",
      "Vanilla 1\n",
      "Elapsed time = 120.337 ms\n",
      "Vanilla 2\n",
      "Elapsed time = 124.185 ms\n",
      "Relative difference (within vanilla): mean 0.000e+00, max 0.000e+00 at idx 0: vanilla is 3388697344.0 and vanilla 2 is 3388697344.0\n",
      "Orientational average 1\n",
      "Elapsed time = 16.768 ms\n",
      "Orientational average 2\n",
      "Elapsed time = 15.041 ms\n",
      "Relative difference (within OA): mean 0.000e+00, max 0.000e+00 at idx 0: OA1 is 3388549120.0 and OA2 is 3388549120.0\n",
      "Relative difference (OA vs vanilla): mean 5.577e-03, max 2.575e-02 at idx 169: vanilla is 379794.25 and oa is 370015.03125\n",
      "\n",
      "Selection data/6lyz.pdb has 1001 atoms\n",
      "Vanilla 1\n",
      "Elapsed time = 3.531 ms\n",
      "Vanilla 2\n",
      "Elapsed time = 3.010 ms\n",
      "Relative difference (within vanilla): mean 0.000e+00, max 0.000e+00 at idx 0: vanilla is 44442568.0 and vanilla 2 is 44442568.0\n",
      "Orientational average 1\n",
      "Elapsed time = 2.870 ms\n",
      "Orientational average 2\n",
      "Elapsed time = 3.122 ms\n",
      "Relative difference (within OA): mean 0.000e+00, max 0.000e+00 at idx 0: OA1 is 44442436.0 and OA2 is 44442436.0\n",
      "Relative difference (OA vs vanilla): mean 1.214e-05, max 3.669e-05 at idx 199: vanilla is 43543.421875 and oa is 43541.82421875\n",
      "\n",
      "Selection data/Ala10.pdb has 104 atoms\n",
      "Vanilla 1\n",
      "Elapsed time = 2.512 ms\n",
      "Vanilla 2\n",
      "Elapsed time = 1.061 ms\n",
      "Relative difference (within vanilla): mean 0.000e+00, max 0.000e+00 at idx 0: vanilla is 152000.03125 and vanilla 2 is 152000.03125\n",
      "Orientational average 1\n",
      "Elapsed time = 1.391 ms\n",
      "Orientational average 2\n",
      "Elapsed time = 1.305 ms\n",
      "Relative difference (within OA): mean 0.000e+00, max 0.000e+00 at idx 0: OA1 is 151999.953125 and OA2 is 151999.953125\n",
      "Relative difference (OA vs vanilla): mean 6.425e-05, max 1.273e-04 at idx 121: vanilla is 15942.162109375 and oa is 15940.1328125\n",
      "\n",
      "Selection data/stmv.pdb has 135960 atoms\n",
      "Orientational average 1\n",
      "Elapsed time = 5.539 ms\n",
      "Orientational average 2\n",
      "Elapsed time = 5.262 ms\n",
      "Relative difference (within OA): mean 0.000e+00, max 0.000e+00 at idx 0: OA1 is 151999.953125 and OA2 is 151999.953125\n"
     ]
    }
   ],
   "source": [
    "\n",
    "for prot in glob.glob('data/*.pdb'):\n",
    "    \n",
    "    pro_coord, pro_ele = readPDB(prot, sel='protein') # Or generate numpy arrays yourself\n",
    "    print(f\"Selection {prot} has {len(pro_ele)} atoms\")\n",
    "    if len(pro_ele) < 20000:\n",
    "        pro = Molecule(coordinates=pro_coord, elements=pro_ele)\n",
    "        print('Vanilla 1')\n",
    "        S_calc = np.array(scatter.scatter(pro, timing=True))\n",
    "    #     print(S_calc)\n",
    "        print('Vanilla 2')\n",
    "        S_calc2 = np.array(scatter.scatter(pro, timing=True))\n",
    "#     print(S_calc2)\n",
    "        rel_diff_max = np.max(np.abs((S_calc2 - S_calc) / S_calc))\n",
    "        rel_diff_mean = np.mean(np.abs((S_calc2 - S_calc) / S_calc))\n",
    "        ref_diff_max_idx = np.argmax(np.abs((S_calc2 - S_calc) / S_calc))\n",
    "        print(f'Relative difference (within vanilla): mean {rel_diff_mean:.3e}, max {rel_diff_max:.3e} at idx {ref_diff_max_idx}: vanilla is {S_calc[ref_diff_max_idx]} and vanilla 2 is {S_calc2[ref_diff_max_idx]}')\n",
    "\n",
    "\n",
    "    print('Orientational average 1')\n",
    "    S_calc_oa = np.array(scatter_oa.scatter(pro, timing=True))\n",
    "#     print(S_calc_oa)\n",
    "    print('Orientational average 2')\n",
    "    S_calc_oa2 = np.array(scatter_oa.scatter(pro, timing=True))\n",
    "#     print(S_calc_oa2)\n",
    "    #print(S_calc[:5], S_calc_oa[:5])\n",
    "    rel_diff_max = np.max(np.abs((S_calc_oa2 - S_calc_oa) / S_calc))\n",
    "    rel_diff_mean = np.mean(np.abs((S_calc_oa2 - S_calc_oa) / S_calc))\n",
    "    ref_diff_max_idx = np.argmax(np.abs((S_calc_oa2 - S_calc_oa) / S_calc))\n",
    "    print(f'Relative difference (within OA): mean {rel_diff_mean:.3e}, max {rel_diff_max:.3e} at idx {ref_diff_max_idx}: OA1 is {S_calc_oa[ref_diff_max_idx]} and OA2 is {S_calc_oa2[ref_diff_max_idx]}')\n",
    "\n",
    "    if len(pro_ele) < 20000:\n",
    "        rel_diff_max = np.max(np.abs((S_calc_oa - S_calc) / S_calc))\n",
    "        rel_diff_mean = np.mean(np.abs((S_calc_oa - S_calc) / S_calc))\n",
    "        ref_diff_max_idx = np.argmax(np.abs((S_calc_oa - S_calc) / S_calc))\n",
    "        print(f'Relative difference (OA vs vanilla): mean {rel_diff_mean:.3e}, max {rel_diff_max:.3e} at idx {ref_diff_max_idx}: vanilla is {S_calc[ref_diff_max_idx]} and oa is {S_calc_oa[ref_diff_max_idx]}')\n",
    "        print()\n"
   ]
  },
  {
   "cell_type": "code",
   "execution_count": 17,
   "id": "b7af1ebe",
   "metadata": {},
   "outputs": [],
   "source": [
    "pro_coord, pro_ele = readPDB('data/stmv.pdb', psf='data/stmv.psf', sel='protein') # Or generate numpy arrays yourself"
   ]
  },
  {
   "cell_type": "code",
   "execution_count": 18,
   "id": "66c05930",
   "metadata": {},
   "outputs": [],
   "source": [
    "pro = Molecule(coordinates=pro_coord, elements=pro_ele)"
   ]
  },
  {
   "cell_type": "code",
   "execution_count": 19,
   "id": "19eacbe5",
   "metadata": {},
   "outputs": [
    {
     "name": "stdout",
     "output_type": "stream",
     "text": [
      "Selection stmv has 135960 atoms\n"
     ]
    }
   ],
   "source": [
    "print(f\"Selection stmv has {len(pro_ele)} atoms\")"
   ]
  },
  {
   "cell_type": "code",
   "execution_count": 22,
   "id": "f66a47ed",
   "metadata": {},
   "outputs": [
    {
     "name": "stdout",
     "output_type": "stream",
     "text": [
      "Elapsed time = 107781.727 ms\n"
     ]
    }
   ],
   "source": [
    "S_calc_list = []\n",
    "for i in range(1):\n",
    "    S_calc = np.array(scatter.scatter(pro, timing=True))\n",
    "    S_calc_list.append(S_calc)\n",
    "S_calc_list = np.array(S_calc_list)"
   ]
  },
  {
   "cell_type": "code",
   "execution_count": 39,
   "id": "e3ac0c87",
   "metadata": {},
   "outputs": [
    {
     "data": {
      "text/plain": [
       "array([0., 0., 0., 0., 0., 0., 0., 0., 0., 0., 0., 0., 0., 0., 0., 0., 0.,\n",
       "       0., 0., 0., 0., 0., 0., 0., 0., 0., 0., 0., 0., 0., 0., 0., 0., 0.,\n",
       "       0., 0., 0., 0., 0., 0., 0., 0., 0., 0., 0., 0., 0., 0., 0., 0., 0.,\n",
       "       0., 0., 0., 0., 0., 0., 0., 0., 0., 0., 0., 0., 0., 0., 0., 0., 0.,\n",
       "       0., 0., 0., 0., 0., 0., 0., 0., 0., 0., 0., 0., 0., 0., 0., 0., 0.,\n",
       "       0., 0., 0., 0., 0., 0., 0., 0., 0., 0., 0., 0., 0., 0., 0., 0., 0.,\n",
       "       0., 0., 0., 0., 0., 0., 0., 0., 0., 0., 0., 0., 0., 0., 0., 0., 0.,\n",
       "       0., 0., 0., 0., 0., 0., 0., 0., 0., 0., 0., 0., 0., 0., 0., 0., 0.,\n",
       "       0., 0., 0., 0., 0., 0., 0., 0., 0., 0., 0., 0., 0., 0., 0., 0., 0.,\n",
       "       0., 0., 0., 0., 0., 0., 0., 0., 0., 0., 0., 0., 0., 0., 0., 0., 0.,\n",
       "       0., 0., 0., 0., 0., 0., 0., 0., 0., 0., 0., 0., 0., 0., 0., 0., 0.,\n",
       "       0., 0., 0., 0., 0., 0., 0., 0., 0., 0., 0., 0., 0.])"
      ]
     },
     "execution_count": 39,
     "metadata": {},
     "output_type": "execute_result"
    }
   ],
   "source": [
    "S_calc_list.std(axis=0)"
   ]
  },
  {
   "cell_type": "code",
   "execution_count": 20,
   "id": "81883785",
   "metadata": {
    "scrolled": true
   },
   "outputs": [
    {
     "name": "stdout",
     "output_type": "stream",
     "text": [
      "Elapsed time = 483.636 ms\n",
      "Elapsed time = 232.244 ms\n",
      "Elapsed time = 236.812 ms\n",
      "Elapsed time = 228.611 ms\n",
      "Elapsed time = 231.173 ms\n",
      "Elapsed time = 227.470 ms\n",
      "Elapsed time = 228.925 ms\n",
      "Elapsed time = 228.466 ms\n",
      "Elapsed time = 229.483 ms\n",
      "Elapsed time = 224.092 ms\n"
     ]
    }
   ],
   "source": [
    "S_calc_oa_list = []\n",
    "for i in range(10):\n",
    "    S_calc_oa = np.array(scatter_oa.scatter(pro, timing=True))\n",
    "    S_calc_oa_list.append(S_calc_oa)\n",
    "S_calc_oa_list = np.array(S_calc_oa_list)"
   ]
  },
  {
   "cell_type": "code",
   "execution_count": 21,
   "id": "a9d1360d",
   "metadata": {},
   "outputs": [
    {
     "data": {
      "text/plain": [
       "array([0., 0., 0., 0., 0., 0., 0., 0., 0., 0., 0., 0., 0., 0., 0., 0., 0.,\n",
       "       0., 0., 0., 0., 0., 0., 0., 0., 0., 0., 0., 0., 0., 0., 0., 0., 0.,\n",
       "       0., 0., 0., 0., 0., 0., 0., 0., 0., 0., 0., 0., 0., 0., 0., 0., 0.,\n",
       "       0., 0., 0., 0., 0., 0., 0., 0., 0., 0., 0., 0., 0., 0., 0., 0., 0.,\n",
       "       0., 0., 0., 0., 0., 0., 0., 0., 0., 0., 0., 0., 0., 0., 0., 0., 0.,\n",
       "       0., 0., 0., 0., 0., 0., 0., 0., 0., 0., 0., 0., 0., 0., 0., 0., 0.,\n",
       "       0., 0., 0., 0., 0., 0., 0., 0., 0., 0., 0., 0., 0., 0., 0., 0., 0.,\n",
       "       0., 0., 0., 0., 0., 0., 0., 0., 0., 0., 0., 0., 0., 0., 0., 0., 0.,\n",
       "       0., 0., 0., 0., 0., 0., 0., 0., 0., 0., 0., 0., 0., 0., 0., 0., 0.,\n",
       "       0., 0., 0., 0., 0., 0., 0., 0., 0., 0., 0., 0., 0., 0., 0., 0., 0.,\n",
       "       0., 0., 0., 0., 0., 0., 0., 0., 0., 0., 0., 0., 0., 0., 0., 0., 0.,\n",
       "       0., 0., 0., 0., 0., 0., 0., 0., 0., 0., 0., 0., 0.])"
      ]
     },
     "execution_count": 21,
     "metadata": {},
     "output_type": "execute_result"
    }
   ],
   "source": [
    "S_calc_oa_list.std(axis=0)"
   ]
  },
  {
   "cell_type": "code",
   "execution_count": 23,
   "id": "ae68455b",
   "metadata": {},
   "outputs": [
    {
     "data": {
      "image/png": "[encoded data removed]",
      "text/plain": [
       "<Figure size 640x480 with 1 Axes>"
      ]
     },
     "metadata": {},
     "output_type": "display_data"
    }
   ],
   "source": [
    "plt.plot(scatter.q, S_calc)\n",
    "plt.plot(scatter.q, S_calc_oa)\n",
    "plt.yscale('log')"
   ]
  },
  {
   "cell_type": "code",
   "execution_count": null,
   "id": "a0cbaba7",
   "metadata": {},
   "outputs": [],
   "source": []
  }
 ],
 "metadata": {
  "kernelspec": {
   "display_name": "Python 3 (ipykernel)",
   "language": "python",
   "name": "python3"
  },
  "language_info": {
   "codemirror_mode": {
    "name": "ipython",
    "version": 3
   },
   "file_extension": ".py",
   "mimetype": "text/x-python",
   "name": "python",
   "nbconvert_exporter": "python",
   "pygments_lexer": "ipython3",
   "version": "3.8.16"
  }
 },
 "nbformat": 4,
 "nbformat_minor": 5
}
