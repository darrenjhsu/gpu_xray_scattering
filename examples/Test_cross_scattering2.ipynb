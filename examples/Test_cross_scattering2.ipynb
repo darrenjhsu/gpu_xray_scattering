{
 "cells": [
  {
   "cell_type": "code",
   "execution_count": 1,
   "id": "6350f924",
   "metadata": {},
   "outputs": [],
   "source": [
    "import numpy as np\n",
    "from gpu_xray_scattering import XS\n",
    "from gpu_xray_scattering.Molecule import Molecule\n",
    "import glob\n",
    "import MDAnalysis as mda\n",
    "from MDAnalysis.topology.guessers import guess_types\n",
    "\n",
    "def readPDB(fname, sel='protein', sel2=None, psf=None):\n",
    "    if psf is not None:\n",
    "        U = mda.Universe(psf, fname)\n",
    "    else:\n",
    "        U = mda.Universe(fname)\n",
    "    Usel = U.select_atoms(sel)\n",
    "    try:\n",
    "        print(Uele[:3])\n",
    "        Uele = Usel.elements\n",
    "    except:\n",
    "        guessed_elements = guess_types(U.atoms.names)\n",
    "        U.add_TopologyAttr('elements', guessed_elements)\n",
    "        \n",
    "    \n",
    "    if sel2 is not None:\n",
    "        Usel2 = U.select_atoms(sel2)\n",
    "        return Usel.positions, Usel.elements, Usel2.positions, Usel2.elements\n",
    "    else:\n",
    "        return Usel.positions, Usel.elements\n"
   ]
  },
  {
   "cell_type": "code",
   "execution_count": 2,
   "id": "b0b52771",
   "metadata": {},
   "outputs": [],
   "source": [
    "pro_coord1, pro_ele1, pro_coord2, pro_ele2 = readPDB('data/1fin.pdb', sel='segid A', sel2='segid B')\n",
    "pro_coord, pro_ele = readPDB('data/1fin.pdb', sel='all')"
   ]
  },
  {
   "cell_type": "code",
   "execution_count": 3,
   "id": "3bf80b5d",
   "metadata": {},
   "outputs": [],
   "source": [
    "scatter = XS.Scatter(use_oa=1)"
   ]
  },
  {
   "cell_type": "code",
   "execution_count": 4,
   "id": "043bc40b",
   "metadata": {},
   "outputs": [],
   "source": [
    "pro_all = Molecule(coordinates=pro_coord, elements=pro_ele)\n",
    "pro1 = Molecule(coordinates=pro_coord1, elements=pro_ele1)\n",
    "pro2 = Molecule(coordinates=pro_coord2, elements=pro_ele2)"
   ]
  },
  {
   "cell_type": "code",
   "execution_count": 5,
   "id": "e8efa428",
   "metadata": {},
   "outputs": [
    {
     "name": "stdout",
     "output_type": "stream",
     "text": [
      "Elapsed time = 433.129 ms\n",
      "Elapsed time = 10.976 ms\n",
      "[8.73075968e+08 8.68294784e+08 8.54273408e+08 8.31383424e+08\n",
      " 8.00321536e+08 7.62012416e+08 7.17572992e+08 6.68259456e+08\n",
      " 6.15413824e+08 5.60405760e+08]\n"
     ]
    }
   ],
   "source": [
    "S_calc_all = scatter.scatter(pro_all, timing=True)\n",
    "S_calc_all = scatter.scatter(pro_all, timing=True)\n",
    "print(S_calc_all[:10])"
   ]
  },
  {
   "cell_type": "code",
   "execution_count": 6,
   "id": "6968dbfe",
   "metadata": {},
   "outputs": [
    {
     "name": "stdout",
     "output_type": "stream",
     "text": [
      "Elapsed time = 17.185 ms\n"
     ]
    }
   ],
   "source": [
    "S_calc_pro, S_calc_trial, S_calc_cross = \\\n",
    "    scatter.cross_scatter(pro1, prior=np.empty((0, 3)), weight=np.empty(0), trial=pro2, timing=True)"
   ]
  },
  {
   "cell_type": "code",
   "execution_count": 7,
   "id": "9475e62e",
   "metadata": {},
   "outputs": [
    {
     "data": {
      "text/plain": [
       "array([2.46989840e+08, 2.46149728e+08, 2.43636128e+08, 2.39502560e+08,\n",
       "       2.33830816e+08, 2.26731872e+08, 2.18342432e+08, 2.08820496e+08,\n",
       "       1.98341024e+08, 1.87090400e+08])"
      ]
     },
     "execution_count": 7,
     "metadata": {},
     "output_type": "execute_result"
    }
   ],
   "source": [
    "S_calc_pro[:10]"
   ]
  },
  {
   "cell_type": "code",
   "execution_count": 8,
   "id": "ee7c13c9",
   "metadata": {},
   "outputs": [
    {
     "data": {
      "text/plain": [
       "array([1.91289376e+08, 1.90749184e+08, 1.89130000e+08, 1.86459952e+08,\n",
       "       1.82781120e+08, 1.78151152e+08, 1.72641712e+08, 1.66336624e+08,\n",
       "       1.59330272e+08, 1.51725088e+08])"
      ]
     },
     "execution_count": 8,
     "metadata": {},
     "output_type": "execute_result"
    }
   ],
   "source": [
    "S_calc_trial[:10]"
   ]
  },
  {
   "cell_type": "code",
   "execution_count": 9,
   "id": "d031ab80",
   "metadata": {},
   "outputs": [
    {
     "data": {
      "text/plain": [
       "array([2.17362672e+08, 2.15697600e+08, 2.10753792e+08, 2.02711264e+08,\n",
       "       1.91855264e+08, 1.78564896e+08, 1.63294496e+08, 1.46551168e+08,\n",
       "       1.28871232e+08, 1.10795064e+08])"
      ]
     },
     "execution_count": 9,
     "metadata": {},
     "output_type": "execute_result"
    }
   ],
   "source": [
    "S_calc_cross[:10]"
   ]
  },
  {
   "cell_type": "code",
   "execution_count": 12,
   "id": "86793ece",
   "metadata": {},
   "outputs": [
    {
     "data": {
      "text/plain": [
       "array([ 8.17889881e-05,  7.73930712e-07, -3.55857969e-07, -1.94374816e-06,\n",
       "       -1.15953396e-06, -5.24925830e-07, -2.00676449e-07,  0.00000000e+00,\n",
       "        1.03995064e-07,  2.56956674e-07])"
      ]
     },
     "execution_count": 12,
     "metadata": {},
     "output_type": "execute_result"
    }
   ],
   "source": [
    "((S_calc_all - S_calc_pro - S_calc_trial - 2 * S_calc_cross) / S_calc_all)[:10]"
   ]
  },
  {
   "cell_type": "code",
   "execution_count": 13,
   "id": "16a323c0",
   "metadata": {
    "scrolled": false
   },
   "outputs": [
    {
     "data": {
      "text/plain": [
       "<matplotlib.legend.Legend at 0x7fc02fc6ef70>"
      ]
     },
     "execution_count": 13,
     "metadata": {},
     "output_type": "execute_result"
    },
    {
     "data": {
      "image/png": "[encoded data removed]",
      "text/plain": [
       "<Figure size 640x480 with 1 Axes>"
      ]
     },
     "metadata": {},
     "output_type": "display_data"
    }
   ],
   "source": [
    "import matplotlib.pyplot as plt\n",
    "plt.plot(scatter.q, S_calc_all, label='all')\n",
    "# plt.yscale('log')\n",
    "plt.plot(scatter.q, S_calc_pro, label='chain A')\n",
    "plt.plot(scatter.q, S_calc_trial, label='chain B')\n",
    "plt.plot(scatter.q, S_calc_cross, label='chain A x chain B')\n",
    "plt.plot(scatter.q, S_calc_pro + S_calc_trial + 2 * S_calc_cross, label='separate')\n",
    "plt.legend()"
   ]
  },
  {
   "cell_type": "code",
   "execution_count": 30,
   "id": "d908d7d8",
   "metadata": {},
   "outputs": [
    {
     "data": {
      "text/plain": [
       "[<matplotlib.lines.Line2D at 0x7fe4d8b46580>]"
      ]
     },
     "execution_count": 30,
     "metadata": {},
     "output_type": "execute_result"
    },
    {
     "data": {
      "image/png": "[encoded data removed]",
      "text/plain": [
       "<Figure size 640x480 with 1 Axes>"
      ]
     },
     "metadata": {},
     "output_type": "display_data"
    }
   ],
   "source": [
    "import matplotlib.pyplot as plt\n",
    "plt.plot(scatter.q, (S_calc_pro + S_calc_trial + S_calc_cross - S_calc_all) / S_calc_all)"
   ]
  },
  {
   "cell_type": "code",
   "execution_count": null,
   "id": "8b0ecfbe",
   "metadata": {},
   "outputs": [],
   "source": []
  },
  {
   "cell_type": "code",
   "execution_count": null,
   "id": "3613b2dc",
   "metadata": {},
   "outputs": [],
   "source": []
  },
  {
   "cell_type": "code",
   "execution_count": null,
   "id": "b381a8d1",
   "metadata": {},
   "outputs": [],
   "source": []
  },
  {
   "cell_type": "code",
   "execution_count": null,
   "id": "a0cbaba7",
   "metadata": {},
   "outputs": [],
   "source": []
  }
 ],
 "metadata": {
  "kernelspec": {
   "display_name": "Python 3 (ipykernel)",
   "language": "python",
   "name": "python3"
  },
  "language_info": {
   "codemirror_mode": {
    "name": "ipython",
    "version": 3
   },
   "file_extension": ".py",
   "mimetype": "text/x-python",
   "name": "python",
   "nbconvert_exporter": "python",
   "pygments_lexer": "ipython3",
   "version": "3.8.16"
  }
 },
 "nbformat": 4,
 "nbformat_minor": 5
}
