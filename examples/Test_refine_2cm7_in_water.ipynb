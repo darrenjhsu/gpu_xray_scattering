{
 "cells": [
  {
   "cell_type": "code",
   "execution_count": 1,
   "id": "6350f924",
   "metadata": {},
   "outputs": [],
   "source": [
    "import numpy as np\n",
    "from gpu_xray_scattering import XS\n",
    "from gpu_xray_scattering.Molecule import Molecule\n",
    "import glob\n",
    "import MDAnalysis as mda\n",
    "from MDAnalysis.topology.guessers import guess_types\n",
    "from scipy.ndimage import binary_erosion, binary_dilation\n",
    "import numpy.polynomial.polynomial as poly\n",
    "\n",
    "def readPDB(fname, sel='protein', sel2=None, psf=None):\n",
    "    if psf is not None:\n",
    "        U = mda.Universe(psf, fname)\n",
    "    else:\n",
    "        U = mda.Universe(fname)\n",
    "    Usel = U.select_atoms(sel)\n",
    "    try:\n",
    "        print(Uele[:3])\n",
    "        Uele = Usel.elements\n",
    "    except:\n",
    "        guessed_elements = guess_types(U.atoms.names)\n",
    "        U.add_TopologyAttr('elements', guessed_elements)\n",
    "        \n",
    "    \n",
    "    if sel2 is not None:\n",
    "        Usel2 = U.select_atoms(sel2)\n",
    "        return Usel.positions, Usel.elements, Usel2.positions, Usel2.elements\n",
    "    else:\n",
    "        return Usel.positions, Usel.elements\n"
   ]
  },
  {
   "cell_type": "code",
   "execution_count": 148,
   "id": "b0b52771",
   "metadata": {},
   "outputs": [],
   "source": [
    "all_coord, all_ele, ligand_coord, ligand_ele = readPDB('data/2CM7/2cm7_holo_wb.pdb', sel='protein or resname IZD or ((resname TIP3 or resname HOH) and around 10 (protein or resname IZD))', sel2='resname IZD')"
   ]
  },
  {
   "cell_type": "code",
   "execution_count": 149,
   "id": "c0a09da7",
   "metadata": {},
   "outputs": [],
   "source": [
    "# Create grid\n",
    "def create_grid(coord, pad=1, spacing=0.5, minsize=None):\n",
    "    # minsize is the side length of the box, can also be rectangular if input is a list/array of length 3\n",
    "    # otherwise ignored\n",
    "    minx, miny, minz = coord.min(0)\n",
    "    maxx, maxy, maxz = coord.max(0)\n",
    "    cenx, ceny, cenz = coord.min(0) + (coord.max(0) - coord.min(0)) / 2\n",
    "    if minsize is not None:\n",
    "        if np.isscalar(minsize):\n",
    "            minx = np.min([minx, cenx - minsize / 2])\n",
    "            miny = np.min([miny, ceny - minsize / 2])\n",
    "            minz = np.min([minz, cenz - minsize / 2])\n",
    "            maxx = np.max([maxx, cenx + minsize / 2])\n",
    "            maxy = np.max([maxy, ceny + minsize / 2])\n",
    "            maxz = np.max([maxz, cenz + minsize / 2])\n",
    "        elif len(minsize) == 3:\n",
    "            minx = np.min([minx, cenx - minsize[0] / 2])\n",
    "            miny = np.min([miny, ceny - minsize[1] / 2])\n",
    "            minz = np.min([minz, cenz - minsize[2] / 2])\n",
    "            maxx = np.max([maxx, cenx + minsize[0] / 2])\n",
    "            maxy = np.max([maxy, ceny + minsize[1] / 2])\n",
    "            maxz = np.max([maxz, cenz + minsize[2] / 2])\n",
    "        else:\n",
    "            print(f\"minsize is set as {minsize} but we don't know what to do with it\")\n",
    "    x_ = np.arange(minx - pad, maxx + pad, spacing)\n",
    "    y_ = np.arange(miny - pad, maxy + pad, spacing)\n",
    "    z_ = np.arange(minz - pad, maxz + pad, spacing)\n",
    "    numx = len(x_)\n",
    "    numy = len(y_)\n",
    "    numz = len(z_)\n",
    "    dimx = x_[-1] - x_[0]\n",
    "    dimy = y_[-1] - y_[0]\n",
    "    dimz = z_[-1] - z_[0]\n",
    "    xyz = np.array([(x, y, z) for x in x_ for y in y_ for z in z_])\n",
    "    xyzd = np.array((numx, numy, numz))\n",
    "    print(f'Grid will be [{numx}, {numy}, {numz}] ([{dimx:.2f} A, {dimy:.2f} A, {dimz:.2f} A], {numx*numy*numz} elements)')\n",
    "    return xyz, xyzd"
   ]
  },
  {
   "cell_type": "code",
   "execution_count": 150,
   "id": "5a2e1a3d",
   "metadata": {},
   "outputs": [
    {
     "name": "stdout",
     "output_type": "stream",
     "text": [
      "Grid will be [12, 17, 27] ([8.25 A, 12.00 A, 19.50 A], 5508 elements)\n"
     ]
    }
   ],
   "source": [
    "spacing = 0.75\n",
    "pad = 1.5\n",
    "minsize = None\n",
    "xyz, xyzd = create_grid(ligand_coord, spacing=spacing, pad=pad, minsize=minsize)"
   ]
  },
  {
   "cell_type": "code",
   "execution_count": 151,
   "id": "adba2204",
   "metadata": {},
   "outputs": [],
   "source": [
    "minx, miny, minz = xyz.min(0)\n",
    "maxx, maxy, maxz = xyz.max(0)"
   ]
  },
  {
   "cell_type": "code",
   "execution_count": 152,
   "id": "9296e5b1",
   "metadata": {},
   "outputs": [
    {
     "name": "stdout",
     "output_type": "stream",
     "text": [
      "12.769000053405762 21.01900005340576 -10.977999687194824 1.0220003128051758 -15.270000457763672 4.229999542236328\n"
     ]
    }
   ],
   "source": [
    "print(minx, maxx, miny, maxy, minz, maxz)"
   ]
  },
  {
   "cell_type": "code",
   "execution_count": 153,
   "id": "fe1dae15",
   "metadata": {},
   "outputs": [],
   "source": [
    "apo_coord, apo_ele = \\\n",
    "    readPDB('data/2CM7/2cm7_apo_wb.pdb', \n",
    "            sel=f'protein or ((resname TIP3 or resname HOH) and (prop x < {minx} or prop x > {maxx} or prop y < {miny} or prop y > {maxy} or prop z < {minz} or prop z > {maxz}) and around 10 protein)')"
   ]
  },
  {
   "cell_type": "code",
   "execution_count": 154,
   "id": "37e7ab63",
   "metadata": {},
   "outputs": [],
   "source": [
    "def overlap(coord1, coord2, radius=1):\n",
    "    # returns if points in coord2 overlaps with coord1 within radius\n",
    "    return (((coord1[:, :, None] - coord2[:, :, None].T)**2).sum(1) < radius**2).sum(0) == 0"
   ]
  },
  {
   "cell_type": "code",
   "execution_count": 155,
   "id": "d724ad0a",
   "metadata": {},
   "outputs": [
    {
     "data": {
      "text/plain": [
       "((5789, 3), (5849, 3))"
      ]
     },
     "execution_count": 155,
     "metadata": {},
     "output_type": "execute_result"
    }
   ],
   "source": [
    "apo_coord.shape, all_coord.shape"
   ]
  },
  {
   "cell_type": "code",
   "execution_count": 198,
   "id": "7d738344",
   "metadata": {},
   "outputs": [],
   "source": [
    "allowed_points = overlap(apo_coord, xyz, radius=1)"
   ]
  },
  {
   "cell_type": "code",
   "execution_count": 199,
   "id": "d4a08acc",
   "metadata": {},
   "outputs": [],
   "source": [
    "allowed_points = allowed_points.reshape(xyzd)"
   ]
  },
  {
   "cell_type": "code",
   "execution_count": 200,
   "id": "bdefee1d",
   "metadata": {},
   "outputs": [],
   "source": [
    "allowed_origins = binary_erosion(allowed_points, iterations=int(2/spacing))"
   ]
  },
  {
   "cell_type": "code",
   "execution_count": 201,
   "id": "48960c7c",
   "metadata": {},
   "outputs": [
    {
     "name": "stdout",
     "output_type": "stream",
     "text": [
      "4903 1406\n"
     ]
    }
   ],
   "source": [
    "print(allowed_points.sum(), allowed_origins.sum())"
   ]
  },
  {
   "cell_type": "code",
   "execution_count": 202,
   "id": "ff262f5c",
   "metadata": {},
   "outputs": [],
   "source": [
    "def get_trial_sphere(xyz, allowed_origin, allowed_volume, dilation=2):\n",
    "    # Returns a list of length len(allowed_origin) which includes points for trial\n",
    "#     print(np.argwhere(allowed_origin))\n",
    "    \n",
    "    trial_list = []\n",
    "    trial_idx = []\n",
    "    for idx, (x, y, z) in enumerate(np.argwhere(allowed_origin)):\n",
    "        vol = np.zeros_like(allowed_volume)\n",
    "        if idx > 0 and idx % 1000 == 0:\n",
    "            print(idx)\n",
    "        vol[x, y, z] = True\n",
    "        vol = binary_dilation(vol, iterations=dilation) * allowed_volume\n",
    "        trial_list.append(xyz[np.argwhere(vol.ravel()).flatten()])\n",
    "        trial_idx.append(np.argwhere(vol.ravel()).flatten())\n",
    "#         print()\n",
    "    print('done')\n",
    "    return trial_list, trial_idx"
   ]
  },
  {
   "cell_type": "code",
   "execution_count": 203,
   "id": "8928edbf",
   "metadata": {
    "scrolled": true
   },
   "outputs": [
    {
     "name": "stdout",
     "output_type": "stream",
     "text": [
      "1000\n",
      "done\n"
     ]
    }
   ],
   "source": [
    "trial_list, trial_idx = \\\n",
    "    get_trial_sphere(xyz, allowed_origins, allowed_points, dilation=int(2.5/spacing))"
   ]
  },
  {
   "cell_type": "code",
   "execution_count": 204,
   "id": "3bf80b5d",
   "metadata": {},
   "outputs": [],
   "source": [
    "scatter = XS.Scatter(q=np.linspace(0.03, 1.2, num=160), use_oa=1)"
   ]
  },
  {
   "cell_type": "code",
   "execution_count": 205,
   "id": "043bc40b",
   "metadata": {},
   "outputs": [],
   "source": [
    "complex_mol = Molecule(coordinates=all_coord, elements=all_ele)\n",
    "apo_mol = Molecule(coordinates=apo_coord, elements=apo_ele)\n"
   ]
  },
  {
   "cell_type": "code",
   "execution_count": 206,
   "id": "e8efa428",
   "metadata": {},
   "outputs": [
    {
     "name": "stdout",
     "output_type": "stream",
     "text": [
      "Elapsed time = 44.877 ms\n"
     ]
    }
   ],
   "source": [
    "S_calc_all = scatter.scatter(complex_mol, timing=False)\n",
    "S_calc_all = scatter.scatter(complex_mol, timing=True)\n",
    "S_calc_pro_before = scatter.scatter(apo_mol, timing=False)\n",
    "S_err = S_calc_all * 0.03"
   ]
  },
  {
   "cell_type": "code",
   "execution_count": 207,
   "id": "afae4d59",
   "metadata": {},
   "outputs": [],
   "source": [
    "# Solve for the scaling factor for trial density\n",
    "\n",
    "def res_func_analytical(Idata, Iprior, Icross, Iguess, sigqdata):\n",
    "    a = np.sum(2 * Icross * (Idata - Iprior) / sigqdata**2) # zeroth order term\n",
    "    b = np.sum(-(4 * Icross**2 - 2 * Iguess * (Idata - Iprior)) / sigqdata**2)\n",
    "    c = np.sum(-6 * Iguess * Icross / sigqdata**2)\n",
    "    d = np.sum(-2 * Iguess**2 / sigqdata**2)\n",
    "    eq = poly.Polynomial((a, b, c, d))\n",
    "    roots = eq.roots()\n",
    "#     print(f'analytical roots: {roots}')\n",
    "    chi = np.inf\n",
    "    root_best = 0\n",
    "    for root_c in roots[np.isreal(roots)]:\n",
    "        root = root_c.real\n",
    "        chi_this = np.sum(((Idata - Iprior - Icross * 2 * root - Iguess * root * root) / sigqdata)**2)/Idata.size\n",
    "        if chi_this < chi:\n",
    "            chi = chi_this\n",
    "            root_best = root\n",
    "#     print(f'analytical gives {chi} at {root_best}')\n",
    "    return root_best\n",
    "# Add to weight\n",
    "# Flatten negative weight"
   ]
  },
  {
   "cell_type": "code",
   "execution_count": 208,
   "id": "9cd06e35",
   "metadata": {},
   "outputs": [],
   "source": [
    "def write_pdb_line(f,*j):\n",
    "    j = list(j)\n",
    "    j[0] = j[0].ljust(6)#atom#6s\n",
    "    j[1] = j[1].rjust(5)#aomnum#5d\n",
    "    j[2] = j[2].center(4)#atomname$#4s\n",
    "    j[3] = j[3].ljust(3)#resname#1s\n",
    "    j[4] = j[4].rjust(1) #Astring\n",
    "    j[5] = j[5].rjust(4) #resnum\n",
    "    j[6] = str('%8.3f' % (float(j[6]))).rjust(8) #x\n",
    "    j[7] = str('%8.3f' % (float(j[7]))).rjust(8)#y\n",
    "    j[8] = str('%8.3f' % (float(j[8]))).rjust(8) #z\\\n",
    "    j[9] =str('%6.2f'%(float(j[9]))).rjust(6)#occ\n",
    "    j[10]=str('%6.2f'%(float(j[10]))).ljust(6)#temp\n",
    "    j[11]=j[11].rjust(12)#elname\n",
    "    f.write(\"%s%s %s %s %s%s    %s%s%s%s%s%s\\n\"% (j[0],j[1],j[2],j[3],j[4],j[5],j[6],j[7],j[8],j[9],j[10],j[11]))\n",
    "            \n",
    "def write_out(xyz, weight, fname, grid=None, op=None, mode='w', save_space=True):\n",
    "    with open(fname, mode) as f:\n",
    "        for i_ in range(len(xyz)):\n",
    "            if weight[i_] > 0 or not save_space:\n",
    "                i = i_ + 1\n",
    "                write_pdb_line(f,'ATOM', str(i), 'X', 'X', 'A', '1', *xyz[i_], weight[i_]*100, 1.0, 'X')\n",
    "        f.write('END\\n')\n",
    "\n",
    "    if grid is not None:\n",
    "        if op is not None:\n",
    "            allowed = op.flatten()\n",
    "        else:\n",
    "            allowed = np.ones_like(weight)\n",
    "        with open(grid, mode) as f:\n",
    "            for i_ in range(len(xyz)):\n",
    "#                 if weight[i_] > 0:\n",
    "                    i = i_ + 1\n",
    "                    write_pdb_line(f,'ATOM', str(i), 'X', 'X', 'A', '1', *xyz[i_], allowed[i_], 1.0, 'X')\n",
    "            f.write('END\\n')"
   ]
  },
  {
   "cell_type": "code",
   "execution_count": 209,
   "id": "12077708",
   "metadata": {},
   "outputs": [],
   "source": [
    "import time\n",
    "from scipy import ndimage\n",
    "def refine(xyz, trial_list, op, S_calc_all, S_err, scatter, apo,\n",
    "           steps=10000,\n",
    "           timing_step=500,\n",
    "           flatten_step=100,\n",
    "           connectivity_step=1000,\n",
    "           weight_max=0.05,\n",
    "           struct_connectivity_A=4,\n",
    "           grid_spacing=0.75,\n",
    "           start_refine=5000,\n",
    "           do_trial=True,\n",
    "           write_traj=None,\n",
    "           write_fname=None,\n",
    "           input_weight=None):\n",
    "    \n",
    "    n_origins = len(trial_list)\n",
    "    if input_weight is None:\n",
    "        weight = np.random.random(len(xyz))\n",
    "        weight[~op.flatten()] = 0\n",
    "        S_calc_pro, S_calc_trial, S_calc_cross = \\\n",
    "                scatter.cross_scatter(apo, prior=np.empty((0, 3)), weight_p=np.empty(0), \n",
    "                                      trial=xyz[op.flatten()], weight_t=weight[op.flatten()], timing=False)\n",
    "        S_calc_pro_before = S_calc_pro.copy() # Initial curve\n",
    "\n",
    "        chi_zero = (((S_calc_all - S_calc_pro) / S_err)**2).sum() / (len(S_calc_all) - 1)\n",
    "        chi_before = (((S_calc_all - S_calc_pro - S_calc_trial - 2 * S_calc_cross) / S_err)**2).sum() / (len(S_calc_all) - 1)\n",
    "        scaling = res_func_analytical(S_calc_all, S_calc_pro, S_calc_cross, S_calc_trial, S_err)\n",
    "        print(f'Initial scaling: {scaling:.3f}')\n",
    "        weight[op.flatten()] *= scaling\n",
    "        weight_trial = weight.copy()\n",
    "        S_calc_pro, _, _ = \\\n",
    "                scatter.cross_scatter(apo, prior=xyz, weight_p=weight, \n",
    "                                      trial=xyz, timing=False)\n",
    "        chi_after = (((S_calc_all - S_calc_pro) / S_err)**2).sum() / (len(S_calc_all) - 1)\n",
    "        print(chi_zero, chi_before, chi_after, (weight>0).sum())\n",
    "    else:\n",
    "        weight = input_weight\n",
    "        \n",
    "    chi_trace = []\n",
    "    scale_trace = []\n",
    "    fine_timing_trace = []\n",
    "\n",
    "\n",
    "    timing_step = timing_step\n",
    "    flatten_step = flatten_step\n",
    "    connectivity_step = connectivity_step\n",
    "    weight_max = weight_max\n",
    "    struct_connectivity = int(struct_connectivity_A / spacing)\n",
    "    start_refine = start_refine\n",
    "    trial = do_trial\n",
    "    write_traj = write_traj\n",
    "    if trial:\n",
    "        weight_trial = weight.copy()\n",
    "\n",
    "    t0 = time.time()\n",
    "    t01 = time.time()\n",
    "    for idx in range(steps+1):\n",
    "\n",
    "        choice = np.random.choice(np.arange(n_origins))\n",
    "        if idx > start_refine:\n",
    "            while (weight[trial_idx[choice]] > 0).sum() < len(trial_idx[choice]) / 2:\n",
    "                # limit sampling to near existing density\n",
    "                choice = np.random.choice(np.arange(n_origins))\n",
    "        S_calc_pro, S_calc_trial, S_calc_cross = \\\n",
    "            scatter.cross_scatter(apo, prior=xyz[weight > 0], weight_p=weight[weight > 0], \n",
    "                                  trial=trial_list[choice], timing=False)\n",
    "        chi_before = (((S_calc_all - S_calc_pro) / S_err)**2).sum() / (len(S_calc_all) - 1)\n",
    "        scaling = res_func_analytical(S_calc_all, S_calc_pro, S_calc_cross, S_calc_trial, S_err)\n",
    "\n",
    "\n",
    "\n",
    "        if trial:\n",
    "            # Risk of increasing chi^2, so recalc \n",
    "            weight_trial[trial_idx[choice]] += scaling\n",
    "            weight_trial[weight_trial<0] = 0\n",
    "            S_calc_pro, S_calc_trial, S_calc_cross = \\\n",
    "                scatter.cross_scatter(apo, prior=xyz[weight_trial > 0], weight_p=weight_trial[weight_trial > 0], \n",
    "                                      trial=trial_list[choice], timing=False)\n",
    "            chi_after = (((S_calc_all - S_calc_pro) / S_err)**2).sum() / (len(S_calc_all) - 1)\n",
    "\n",
    "            if chi_after < chi_before:\n",
    "                weight = weight_trial.copy()\n",
    "                scale_trace.append(scaling)\n",
    "            else:\n",
    "                weight_trial = weight.copy()\n",
    "                scale_trace.append(np.nan)\n",
    "            chi = min(chi_after, chi_before)\n",
    "        else:\n",
    "            chi = chi_before\n",
    "            scale_trace.append(scaling)\n",
    "            weight[trial_idx[choice]] += scaling\n",
    "            weight[weight<0] = 0\n",
    "\n",
    "        chi_trace.append(chi)    \n",
    "\n",
    "        if flatten_step is not None and idx > 0 and idx % flatten_step == 0:\n",
    "            # flatten\n",
    "            weight[weight < weight.max() * weight_max] = 0\n",
    "\n",
    "        if connectivity_step is not None:\n",
    "            enforce_connectivity = False\n",
    "            if isinstance(connectivity_step, list):\n",
    "                enforce_connectivity = idx in connectivity_step\n",
    "            elif (idx > 0 and idx % connectivity_step == 0):\n",
    "                enforce_connectivity = True\n",
    "            # Pick largest feature\n",
    "            if enforce_connectivity:\n",
    "                struct = ndimage.generate_binary_structure(3, struct_connectivity)\n",
    "                labeled_support, num_features = ndimage.label(weight.reshape(op.shape), structure=struct)\n",
    "                labeled_support = labeled_support.flatten()\n",
    "                sums = np.zeros((num_features))\n",
    "\n",
    "                #find the feature with the greatest number of electrons\n",
    "                for feature in range(num_features+1):\n",
    "                    sums[feature-1] = np.sum(weight[labeled_support==feature])\n",
    "                big_feature = np.argmax(sums)+1\n",
    "\n",
    "                #remove features from the support that are not the primary feature\n",
    "                weight[labeled_support != big_feature] = 0\n",
    "                print()\n",
    "                print(f'Stray feature removal: Map has {num_features} blobs, removing {num_features-1} of them')\n",
    "                print(f'Zeroed {sums.sum() - np.max(sums):.2f} carbon-equivalents, {np.max(sums):.2f} remaining')\n",
    "\n",
    "        if write_traj is not None and idx > 0 and idx % write_traj == 0:\n",
    "            if idx == write_traj:\n",
    "                write_out(xyz, weight, 'traj.pdb', mode='w', save_space=False)\n",
    "            else:\n",
    "                write_out(xyz, weight, 'traj.pdb', mode='a', save_space=False)\n",
    "\n",
    "\n",
    "        if timing_step is not None and idx > 0 and idx % timing_step == 0:\n",
    "            t1 = time.time()\n",
    "            if idx == timing_step:\n",
    "                t2 = t0\n",
    "            print(f'Timing step {idx}: {(t1 - t0):.2f}s ({(t1-t0)/idx*1000:.2f} ms/step | {idx/(t1-t0):.2f} steps/s | ', end='')\n",
    "            print(f'this {timing_step} steps: {timing_step/(t1-t2):.2f} steps/s)')\n",
    "            t2 = time.time()\n",
    "\n",
    "        print(f'Step {idx:4d}: scaling = {scaling:.4e}, chi^2 = {chi:.4e}', end='\\r')\n",
    "        t00 = time.time()\n",
    "        fine_timing_trace.append(t00 - t01)\n",
    "        t01 = time.time()\n",
    "    final_S_calc, _ , _ = \\\n",
    "            scatter.cross_scatter(apo, prior=xyz[weight_trial > 0], weight_p=weight_trial[weight_trial > 0], \n",
    "                                  trial=trial_list[choice], timing=False)\n",
    "    return weight, chi_trace, scale_trace, fine_timing_trace, final_S_calc"
   ]
  },
  {
   "cell_type": "code",
   "execution_count": 232,
   "id": "adfd9b01",
   "metadata": {
    "scrolled": true
   },
   "outputs": [
    {
     "name": "stdout",
     "output_type": "stream",
     "text": [
      "\n",
      "\n",
      "### Run 0 ###\n",
      "Initial scaling: 0.023\n",
      "1.1817753621893832 861840.3909178969 0.3305607023537954 4903\n",
      "Timing step 500: 17.74s (35.47 ms/step | 28.19 steps/s | this 500 steps: 28.19 steps/s)\n",
      "Step  999: scaling = -1.9046e-03, chi^2 = 2.8453e-02\n",
      "Stray feature removal: Map has 18 blobs, removing 17 of them\n",
      "Zeroed 0.81 carbon-equivalents, 45.70 remaining\n",
      "Timing step 1000: 35.45s (35.45 ms/step | 28.21 steps/s | this 500 steps: 28.23 steps/s)\n",
      "Timing step 1500: 53.30s (35.53 ms/step | 28.14 steps/s | this 500 steps: 28.01 steps/s)\n",
      "Step 1999: scaling = -2.5781e-04, chi^2 = 2.5846e-02\n",
      "Stray feature removal: Map has 30 blobs, removing 29 of them\n",
      "Zeroed 1.63 carbon-equivalents, 42.15 remaining\n",
      "Timing step 2000: 71.06s (35.53 ms/step | 28.14 steps/s | this 500 steps: 28.15 steps/s)\n",
      "Timing step 2500: 88.82s (35.53 ms/step | 28.15 steps/s | this 500 steps: 28.15 steps/s)\n",
      "Step 2999: scaling = 4.8757e-04, chi^2 = 2.5988e-022\n",
      "Stray feature removal: Map has 40 blobs, removing 39 of them\n",
      "Zeroed 2.05 carbon-equivalents, 39.75 remaining\n",
      "Timing step 3000: 106.38s (35.46 ms/step | 28.20 steps/s | this 500 steps: 28.47 steps/s)\n",
      "Timing step 3500: 124.40s (35.54 ms/step | 28.13 steps/s | this 500 steps: 27.75 steps/s)\n",
      "Step 3999: scaling = 1.2738e-03, chi^2 = 2.4492e-022\n",
      "Stray feature removal: Map has 46 blobs, removing 45 of them\n",
      "Zeroed 1.75 carbon-equivalents, 35.53 remaining\n",
      "Timing step 4000: 142.09s (35.52 ms/step | 28.15 steps/s | this 500 steps: 28.27 steps/s)\n",
      "Timing step 4500: 159.70s (35.49 ms/step | 28.18 steps/s | this 500 steps: 28.39 steps/s)\n",
      "Step 4999: scaling = -2.1020e-03, chi^2 = 2.6101e-02\n",
      "Stray feature removal: Map has 40 blobs, removing 39 of them\n",
      "Zeroed 1.80 carbon-equivalents, 40.09 remaining\n",
      "Timing step 5000: 177.32s (35.46 ms/step | 28.20 steps/s | this 500 steps: 28.38 steps/s)\n",
      "Timing step 5500: 194.87s (35.43 ms/step | 28.22 steps/s | this 500 steps: 28.50 steps/s)\n",
      "Step 5999: scaling = 6.7760e-04, chi^2 = 2.3916e-022\n",
      "Stray feature removal: Map has 28 blobs, removing 27 of them\n",
      "Zeroed 0.73 carbon-equivalents, 34.74 remaining\n",
      "Timing step 6000: 212.65s (35.44 ms/step | 28.21 steps/s | this 500 steps: 28.11 steps/s)\n",
      "Timing step 6500: 230.45s (35.45 ms/step | 28.21 steps/s | this 500 steps: 28.10 steps/s)\n",
      "Step 6999: scaling = -2.3173e-04, chi^2 = 2.3326e-02\n",
      "Stray feature removal: Map has 17 blobs, removing 16 of them\n",
      "Zeroed 0.55 carbon-equivalents, 35.06 remaining\n",
      "Timing step 7000: 248.14s (35.45 ms/step | 28.21 steps/s | this 500 steps: 28.25 steps/s)\n",
      "Timing step 7500: 265.79s (35.44 ms/step | 28.22 steps/s | this 500 steps: 28.34 steps/s)\n",
      "Step 7999: scaling = -6.2245e-05, chi^2 = 2.3048e-02\n",
      "Stray feature removal: Map has 6 blobs, removing 5 of them\n",
      "Zeroed 0.21 carbon-equivalents, 34.39 remaining\n",
      "Timing step 8000: 283.32s (35.42 ms/step | 28.24 steps/s | this 500 steps: 28.52 steps/s)\n",
      "Timing step 8500: 300.88s (35.40 ms/step | 28.25 steps/s | this 500 steps: 28.48 steps/s)\n",
      "Step 8999: scaling = 3.5251e-04, chi^2 = 2.2625e-022\n",
      "Stray feature removal: Map has 6 blobs, removing 5 of them\n",
      "Zeroed 0.21 carbon-equivalents, 34.78 remaining\n",
      "Timing step 9000: 318.51s (35.39 ms/step | 28.26 steps/s | this 500 steps: 28.35 steps/s)\n",
      "Timing step 9500: 335.72s (35.34 ms/step | 28.30 steps/s | this 500 steps: 29.06 steps/s)\n",
      "Step 9999: scaling = 3.3732e-04, chi^2 = 2.2807e-022\n",
      "Stray feature removal: Map has 10 blobs, removing 9 of them\n",
      "Zeroed 13.54 carbon-equivalents, 19.21 remaining\n",
      "Timing step 10000: 352.84s (35.28 ms/step | 28.34 steps/s | this 500 steps: 29.21 steps/s)\n",
      "Step 10000: scaling = -1.3534e-03, chi^2 = 2.2786e-02\n",
      "\n",
      "### Run 1 ###\n",
      "Initial scaling: 0.023\n",
      "1.1817753621893832 890797.441053902 0.34260802251424355 4903\n",
      "Timing step 500: 18.19s (36.38 ms/step | 27.49 steps/s | this 500 steps: 27.49 steps/s)\n",
      "Step  999: scaling = 5.3159e-04, chi^2 = 2.9228e-022\n",
      "Stray feature removal: Map has 7 blobs, removing 6 of them\n",
      "Zeroed 0.17 carbon-equivalents, 49.54 remaining\n",
      "Timing step 1000: 35.83s (35.83 ms/step | 27.91 steps/s | this 500 steps: 28.35 steps/s)\n",
      "Timing step 1500: 53.72s (35.81 ms/step | 27.93 steps/s | this 500 steps: 27.95 steps/s)\n",
      "Step 1999: scaling = -8.6772e-04, chi^2 = 2.6499e-02\n",
      "Stray feature removal: Map has 15 blobs, removing 14 of them\n",
      "Zeroed 0.58 carbon-equivalents, 47.41 remaining\n",
      "Timing step 2000: 71.44s (35.72 ms/step | 28.00 steps/s | this 500 steps: 28.21 steps/s)\n",
      "Timing step 2500: 89.30s (35.72 ms/step | 28.00 steps/s | this 500 steps: 28.00 steps/s)\n",
      "Step 2999: scaling = 1.0763e-03, chi^2 = 2.4978e-022\n",
      "Stray feature removal: Map has 19 blobs, removing 18 of them\n",
      "Zeroed 1.36 carbon-equivalents, 46.48 remaining\n",
      "Timing step 3000: 107.28s (35.76 ms/step | 27.96 steps/s | this 500 steps: 27.80 steps/s)\n",
      "Timing step 3500: 125.16s (35.76 ms/step | 27.96 steps/s | this 500 steps: 27.97 steps/s)\n",
      "Step 3999: scaling = -8.8055e-04, chi^2 = 2.4647e-02\n",
      "Stray feature removal: Map has 20 blobs, removing 19 of them\n",
      "Zeroed 1.94 carbon-equivalents, 44.87 remaining\n",
      "Timing step 4000: 143.06s (35.77 ms/step | 27.96 steps/s | this 500 steps: 27.93 steps/s)\n",
      "Timing step 4500: 160.88s (35.75 ms/step | 27.97 steps/s | this 500 steps: 28.07 steps/s)\n",
      "Step 4999: scaling = -2.9099e-04, chi^2 = 2.4212e-02\n",
      "Stray feature removal: Map has 24 blobs, removing 23 of them\n",
      "Zeroed 2.25 carbon-equivalents, 44.59 remaining\n",
      "Timing step 5000: 178.86s (35.77 ms/step | 27.96 steps/s | this 500 steps: 27.81 steps/s)\n",
      "Timing step 5500: 196.72s (35.77 ms/step | 27.96 steps/s | this 500 steps: 27.99 steps/s)\n",
      "Step 5999: scaling = -6.0852e-04, chi^2 = 2.3681e-02\n",
      "Stray feature removal: Map has 29 blobs, removing 28 of them\n",
      "Zeroed 2.58 carbon-equivalents, 43.22 remaining\n",
      "Timing step 6000: 214.31s (35.72 ms/step | 28.00 steps/s | this 500 steps: 28.43 steps/s)\n",
      "Timing step 6500: 231.86s (35.67 ms/step | 28.03 steps/s | this 500 steps: 28.48 steps/s)\n",
      "Step 6999: scaling = -2.2280e-03, chi^2 = 2.3493e-02\n",
      "Stray feature removal: Map has 26 blobs, removing 25 of them\n",
      "Zeroed 2.59 carbon-equivalents, 43.86 remaining\n",
      "Timing step 7000: 249.51s (35.64 ms/step | 28.06 steps/s | this 500 steps: 28.34 steps/s)\n",
      "Timing step 7500: 267.16s (35.62 ms/step | 28.07 steps/s | this 500 steps: 28.32 steps/s)\n",
      "Step 7999: scaling = -5.2213e-04, chi^2 = 2.3383e-02\n",
      "Stray feature removal: Map has 37 blobs, removing 36 of them\n",
      "Zeroed 2.72 carbon-equivalents, 42.52 remaining\n",
      "Timing step 8000: 284.95s (35.62 ms/step | 28.08 steps/s | this 500 steps: 28.10 steps/s)\n",
      "Timing step 8500: 302.71s (35.61 ms/step | 28.08 steps/s | this 500 steps: 28.15 steps/s)\n",
      "Step 8999: scaling = -1.0842e-04, chi^2 = 2.2713e-02\n",
      "Stray feature removal: Map has 39 blobs, removing 38 of them\n",
      "Zeroed 2.20 carbon-equivalents, 41.56 remaining\n",
      "Timing step 9000: 320.19s (35.58 ms/step | 28.11 steps/s | this 500 steps: 28.60 steps/s)\n",
      "Timing step 9500: 337.68s (35.55 ms/step | 28.13 steps/s | this 500 steps: 28.59 steps/s)\n",
      "Step 9999: scaling = -1.0117e-03, chi^2 = 2.2873e-02\n",
      "Stray feature removal: Map has 38 blobs, removing 37 of them\n",
      "Zeroed 1.29 carbon-equivalents, 38.99 remaining\n",
      "Timing step 10000: 355.04s (35.50 ms/step | 28.17 steps/s | this 500 steps: 28.81 steps/s)\n",
      "Step 10000: scaling = 4.0836e-04, chi^2 = 2.2871e-02\n",
      "\n",
      "### Run 2 ###\n",
      "Initial scaling: 0.023\n",
      "1.1817753621893832 899326.9887237862 0.33332759546595625 4903\n",
      "Timing step 500: 18.17s (36.33 ms/step | 27.52 steps/s | this 500 steps: 27.52 steps/s)\n",
      "Step  999: scaling = -6.4060e-04, chi^2 = 3.1135e-02\n",
      "Stray feature removal: Map has 10 blobs, removing 9 of them\n",
      "Zeroed 0.47 carbon-equivalents, 50.31 remaining\n",
      "Timing step 1000: 36.10s (36.10 ms/step | 27.70 steps/s | this 500 steps: 27.88 steps/s)\n",
      "Timing step 1500: 53.99s (35.99 ms/step | 27.78 steps/s | this 500 steps: 27.95 steps/s)\n",
      "Step 1999: scaling = 1.1429e-03, chi^2 = 2.7459e-022\n",
      "Stray feature removal: Map has 21 blobs, removing 20 of them\n",
      "Zeroed 1.07 carbon-equivalents, 45.75 remaining\n",
      "Timing step 2000: 71.71s (35.86 ms/step | 27.89 steps/s | this 500 steps: 28.21 steps/s)\n",
      "Timing step 2500: 89.37s (35.75 ms/step | 27.97 steps/s | this 500 steps: 28.32 steps/s)\n",
      "Step 2999: scaling = -9.0047e-04, chi^2 = 2.6335e-02\n",
      "Stray feature removal: Map has 34 blobs, removing 33 of them\n",
      "Zeroed 1.76 carbon-equivalents, 40.80 remaining\n",
      "Timing step 3000: 106.85s (35.62 ms/step | 28.08 steps/s | this 500 steps: 28.60 steps/s)\n"
     ]
    },
    {
     "name": "stdout",
     "output_type": "stream",
     "text": [
      "Timing step 3500: 124.52s (35.58 ms/step | 28.11 steps/s | this 500 steps: 28.29 steps/s)\n",
      "Step 3999: scaling = -2.6778e-03, chi^2 = 2.7880e-02\n",
      "Stray feature removal: Map has 30 blobs, removing 29 of them\n",
      "Zeroed 1.27 carbon-equivalents, 37.03 remaining\n",
      "Timing step 4000: 141.96s (35.49 ms/step | 28.18 steps/s | this 500 steps: 28.68 steps/s)\n",
      "Timing step 4500: 159.39s (35.42 ms/step | 28.23 steps/s | this 500 steps: 28.68 steps/s)\n",
      "Step 4999: scaling = -2.2288e-03, chi^2 = 2.6419e-02\n",
      "Stray feature removal: Map has 41 blobs, removing 40 of them\n",
      "Zeroed 2.27 carbon-equivalents, 38.21 remaining\n",
      "Timing step 5000: 176.60s (35.32 ms/step | 28.31 steps/s | this 500 steps: 29.05 steps/s)\n",
      "Timing step 5500: 194.19s (35.31 ms/step | 28.32 steps/s | this 500 steps: 28.43 steps/s)\n",
      "Step 5999: scaling = -5.1942e-04, chi^2 = 2.5246e-02\n",
      "Stray feature removal: Map has 27 blobs, removing 26 of them\n",
      "Zeroed 0.94 carbon-equivalents, 36.54 remaining\n",
      "Timing step 6000: 211.64s (35.27 ms/step | 28.35 steps/s | this 500 steps: 28.65 steps/s)\n",
      "Timing step 6500: 229.09s (35.24 ms/step | 28.37 steps/s | this 500 steps: 28.66 steps/s)\n",
      "Step 6999: scaling = -2.2743e-03, chi^2 = 2.4883e-02\n",
      "Stray feature removal: Map has 31 blobs, removing 30 of them\n",
      "Zeroed 1.28 carbon-equivalents, 36.52 remaining\n",
      "Timing step 7000: 246.73s (35.25 ms/step | 28.37 steps/s | this 500 steps: 28.34 steps/s)\n",
      "Timing step 7500: 264.70s (35.29 ms/step | 28.33 steps/s | this 500 steps: 27.83 steps/s)\n",
      "Step 7999: scaling = -1.8812e-03, chi^2 = 2.4264e-02\n",
      "Stray feature removal: Map has 34 blobs, removing 33 of them\n",
      "Zeroed 1.49 carbon-equivalents, 36.88 remaining\n",
      "Timing step 8000: 282.08s (35.26 ms/step | 28.36 steps/s | this 500 steps: 28.76 steps/s)\n",
      "Timing step 8500: 299.14s (35.19 ms/step | 28.42 steps/s | this 500 steps: 29.32 steps/s)\n",
      "Step 8999: scaling = 3.0231e-04, chi^2 = 2.4296e-022\n",
      "Stray feature removal: Map has 9 blobs, removing 8 of them\n",
      "Zeroed 0.29 carbon-equivalents, 34.71 remaining\n",
      "Timing step 9000: 316.44s (35.16 ms/step | 28.44 steps/s | this 500 steps: 28.90 steps/s)\n",
      "Timing step 9500: 333.74s (35.13 ms/step | 28.46 steps/s | this 500 steps: 28.89 steps/s)\n",
      "Step 9999: scaling = 4.7459e-04, chi^2 = 2.4171e-022\n",
      "Stray feature removal: Map has 7 blobs, removing 6 of them\n",
      "Zeroed 13.11 carbon-equivalents, 19.42 remaining\n",
      "Timing step 10000: 351.36s (35.14 ms/step | 28.46 steps/s | this 500 steps: 28.39 steps/s)\n",
      "Step 10000: scaling = 3.4313e-04, chi^2 = 2.4170e-02\n",
      "\n",
      "### Run 3 ###\n",
      "Initial scaling: 0.023\n",
      "1.1817753621893832 923182.5078412977 0.33469523566384546 4903\n",
      "Timing step 500: 17.58s (35.16 ms/step | 28.44 steps/s | this 500 steps: 28.44 steps/s)\n",
      "Step  999: scaling = -3.0406e-05, chi^2 = 2.9253e-02\n",
      "Stray feature removal: Map has 5 blobs, removing 4 of them\n",
      "Zeroed 0.08 carbon-equivalents, 52.82 remaining\n",
      "Timing step 1000: 34.39s (34.39 ms/step | 29.08 steps/s | this 500 steps: 29.74 steps/s)\n",
      "Timing step 1500: 51.34s (34.22 ms/step | 29.22 steps/s | this 500 steps: 29.51 steps/s)\n",
      "Step 1999: scaling = -6.5206e-04, chi^2 = 2.6714e-02\n",
      "Stray feature removal: Map has 6 blobs, removing 5 of them\n",
      "Zeroed 0.31 carbon-equivalents, 49.83 remaining\n",
      "Timing step 2000: 68.45s (34.23 ms/step | 29.22 steps/s | this 500 steps: 29.21 steps/s)\n",
      "Timing step 2500: 85.86s (34.34 ms/step | 29.12 steps/s | this 500 steps: 28.73 steps/s)\n",
      "Step 2999: scaling = -2.4941e-03, chi^2 = 2.5231e-02\n",
      "Stray feature removal: Map has 13 blobs, removing 12 of them\n",
      "Zeroed 2.33 carbon-equivalents, 46.39 remaining\n",
      "Timing step 3000: 103.13s (34.38 ms/step | 29.09 steps/s | this 500 steps: 28.95 steps/s)\n",
      "Timing step 3500: 120.41s (34.40 ms/step | 29.07 steps/s | this 500 steps: 28.93 steps/s)\n",
      "Step 3999: scaling = -4.6062e-04, chi^2 = 2.5163e-02\n",
      "Stray feature removal: Map has 24 blobs, removing 23 of them\n",
      "Zeroed 2.51 carbon-equivalents, 44.65 remaining\n",
      "Timing step 4000: 137.83s (34.46 ms/step | 29.02 steps/s | this 500 steps: 28.70 steps/s)\n",
      "Timing step 4500: 155.33s (34.52 ms/step | 28.97 steps/s | this 500 steps: 28.57 steps/s)\n",
      "Step 4999: scaling = -1.8381e-04, chi^2 = 2.4942e-02\n",
      "Stray feature removal: Map has 33 blobs, removing 32 of them\n",
      "Zeroed 2.66 carbon-equivalents, 42.48 remaining\n",
      "Timing step 5000: 172.82s (34.56 ms/step | 28.93 steps/s | this 500 steps: 28.60 steps/s)\n",
      "Timing step 5500: 190.24s (34.59 ms/step | 28.91 steps/s | this 500 steps: 28.70 steps/s)\n",
      "Step 5999: scaling = -8.1249e-05, chi^2 = 2.4070e-02\n",
      "Stray feature removal: Map has 34 blobs, removing 33 of them\n",
      "Zeroed 2.71 carbon-equivalents, 44.29 remaining\n",
      "Timing step 6000: 207.52s (34.59 ms/step | 28.91 steps/s | this 500 steps: 28.94 steps/s)\n",
      "Timing step 6500: 224.80s (34.58 ms/step | 28.91 steps/s | this 500 steps: 28.93 steps/s)\n",
      "Step 6999: scaling = -7.8855e-05, chi^2 = 2.3943e-02\n",
      "Stray feature removal: Map has 38 blobs, removing 37 of them\n",
      "Zeroed 3.10 carbon-equivalents, 42.60 remaining\n",
      "Timing step 7000: 242.20s (34.60 ms/step | 28.90 steps/s | this 500 steps: 28.75 steps/s)\n",
      "Timing step 7500: 259.51s (34.60 ms/step | 28.90 steps/s | this 500 steps: 28.88 steps/s)\n",
      "Step 7999: scaling = 5.0740e-04, chi^2 = 2.3744e-022\n",
      "Stray feature removal: Map has 47 blobs, removing 46 of them\n",
      "Zeroed 2.33 carbon-equivalents, 37.43 remaining\n",
      "Timing step 8000: 276.44s (34.56 ms/step | 28.94 steps/s | this 500 steps: 29.53 steps/s)\n",
      "Timing step 8500: 293.58s (34.54 ms/step | 28.95 steps/s | this 500 steps: 29.18 steps/s)\n",
      "Step 8999: scaling = -6.7791e-05, chi^2 = 2.4322e-02\n",
      "Stray feature removal: Map has 46 blobs, removing 45 of them\n",
      "Zeroed 1.86 carbon-equivalents, 37.21 remaining\n",
      "Timing step 9000: 310.85s (34.54 ms/step | 28.95 steps/s | this 500 steps: 28.95 steps/s)\n",
      "Timing step 9500: 328.20s (34.55 ms/step | 28.95 steps/s | this 500 steps: 28.82 steps/s)\n",
      "Step 9999: scaling = 6.5002e-04, chi^2 = 2.3853e-022\n",
      "Stray feature removal: Map has 51 blobs, removing 50 of them\n",
      "Zeroed 2.53 carbon-equivalents, 37.04 remaining\n",
      "Timing step 10000: 345.79s (34.58 ms/step | 28.92 steps/s | this 500 steps: 28.42 steps/s)\n",
      "Step 10000: scaling = -5.7137e-04, chi^2 = 2.3850e-02\n",
      "\n",
      "### Run 4 ###\n",
      "Initial scaling: 0.023\n",
      "1.1817753621893832 881362.8888730364 0.33535427958166153 4903\n",
      "Timing step 500: 17.48s (34.97 ms/step | 28.60 steps/s | this 500 steps: 28.60 steps/s)\n",
      "Step  999: scaling = -6.0371e-03, chi^2 = 2.8249e-02\n",
      "Stray feature removal: Map has 18 blobs, removing 17 of them\n",
      "Zeroed 0.77 carbon-equivalents, 49.90 remaining\n",
      "Timing step 1000: 34.58s (34.58 ms/step | 28.92 steps/s | this 500 steps: 29.25 steps/s)\n",
      "Timing step 1500: 51.88s (34.58 ms/step | 28.92 steps/s | this 500 steps: 28.91 steps/s)\n",
      "Step 1999: scaling = 1.0525e-03, chi^2 = 2.7190e-022\n",
      "Stray feature removal: Map has 25 blobs, removing 24 of them\n",
      "Zeroed 0.93 carbon-equivalents, 46.89 remaining\n",
      "Timing step 2000: 69.16s (34.58 ms/step | 28.92 steps/s | this 500 steps: 28.93 steps/s)\n",
      "Timing step 2500: 86.45s (34.58 ms/step | 28.92 steps/s | this 500 steps: 28.92 steps/s)\n",
      "Step 2999: scaling = -4.9838e-04, chi^2 = 2.5342e-02\n",
      "Stray feature removal: Map has 26 blobs, removing 25 of them\n",
      "Zeroed 0.98 carbon-equivalents, 46.60 remaining\n",
      "Timing step 3000: 103.52s (34.51 ms/step | 28.98 steps/s | this 500 steps: 29.29 steps/s)\n",
      "Timing step 3500: 120.48s (34.42 ms/step | 29.05 steps/s | this 500 steps: 29.47 steps/s)\n",
      "Step 3999: scaling = -8.9531e-05, chi^2 = 2.5147e-02\n",
      "Stray feature removal: Map has 22 blobs, removing 21 of them\n",
      "Zeroed 1.24 carbon-equivalents, 45.52 remaining\n",
      "Timing step 4000: 137.26s (34.31 ms/step | 29.14 steps/s | this 500 steps: 29.80 steps/s)\n",
      "Timing step 4500: 154.26s (34.28 ms/step | 29.17 steps/s | this 500 steps: 29.41 steps/s)\n",
      "Step 4999: scaling = 3.6978e-04, chi^2 = 2.3972e-022\n",
      "Stray feature removal: Map has 39 blobs, removing 38 of them\n",
      "Zeroed 3.06 carbon-equivalents, 40.96 remaining\n",
      "Timing step 5000: 171.49s (34.30 ms/step | 29.16 steps/s | this 500 steps: 29.02 steps/s)\n",
      "Timing step 5500: 188.89s (34.34 ms/step | 29.12 steps/s | this 500 steps: 28.73 steps/s)\n",
      "Step 5999: scaling = -5.8549e-04, chi^2 = 2.3491e-02\n",
      "Stray feature removal: Map has 40 blobs, removing 39 of them\n",
      "Zeroed 3.08 carbon-equivalents, 41.53 remaining\n",
      "Timing step 6000: 206.51s (34.42 ms/step | 29.05 steps/s | this 500 steps: 28.37 steps/s)\n"
     ]
    },
    {
     "name": "stdout",
     "output_type": "stream",
     "text": [
      "Timing step 6500: 223.98s (34.46 ms/step | 29.02 steps/s | this 500 steps: 28.62 steps/s)\n",
      "Step 6999: scaling = 3.3558e-04, chi^2 = 2.2916e-022\n",
      "Stray feature removal: Map has 50 blobs, removing 49 of them\n",
      "Zeroed 3.20 carbon-equivalents, 40.05 remaining\n",
      "Timing step 7000: 241.47s (34.50 ms/step | 28.99 steps/s | this 500 steps: 28.60 steps/s)\n",
      "Timing step 7500: 258.71s (34.49 ms/step | 28.99 steps/s | this 500 steps: 29.00 steps/s)\n",
      "Step 7999: scaling = 4.7638e-04, chi^2 = 2.2904e-022\n",
      "Stray feature removal: Map has 50 blobs, removing 49 of them\n",
      "Zeroed 2.05 carbon-equivalents, 37.23 remaining\n",
      "Timing step 8000: 276.07s (34.51 ms/step | 28.98 steps/s | this 500 steps: 28.79 steps/s)\n",
      "Timing step 8500: 293.36s (34.51 ms/step | 28.97 steps/s | this 500 steps: 28.92 steps/s)\n",
      "Step 8999: scaling = -1.0940e-04, chi^2 = 2.2707e-02\n",
      "Stray feature removal: Map has 51 blobs, removing 50 of them\n",
      "Zeroed 2.25 carbon-equivalents, 39.05 remaining\n",
      "Timing step 9000: 310.75s (34.53 ms/step | 28.96 steps/s | this 500 steps: 28.75 steps/s)\n",
      "Timing step 9500: 327.92s (34.52 ms/step | 28.97 steps/s | this 500 steps: 29.12 steps/s)\n",
      "Step 9999: scaling = -1.2230e-03, chi^2 = 2.2504e-02\n",
      "Stray feature removal: Map has 51 blobs, removing 50 of them\n",
      "Zeroed 2.48 carbon-equivalents, 39.36 remaining\n",
      "Timing step 10000: 345.24s (34.52 ms/step | 28.97 steps/s | this 500 steps: 28.86 steps/s)\n",
      "Step 10000: scaling = -5.7755e-04, chi^2 = 2.2502e-02\n",
      "\n",
      "### Run 5 ###\n",
      "Initial scaling: 0.023\n",
      "1.1817753621893832 841273.8363300442 0.33420761660035203 4903\n",
      "Timing step 500: 18.06s (36.13 ms/step | 27.68 steps/s | this 500 steps: 27.68 steps/s)\n",
      "Step  999: scaling = -1.2815e-03, chi^2 = 3.0874e-02\n",
      "Stray feature removal: Map has 23 blobs, removing 22 of them\n",
      "Zeroed 1.09 carbon-equivalents, 47.20 remaining\n",
      "Timing step 1000: 35.63s (35.63 ms/step | 28.06 steps/s | this 500 steps: 28.46 steps/s)\n",
      "Timing step 1500: 52.54s (35.03 ms/step | 28.55 steps/s | this 500 steps: 29.57 steps/s)\n",
      "Step 1999: scaling = 9.2463e-04, chi^2 = 2.5367e-022\n",
      "Stray feature removal: Map has 18 blobs, removing 17 of them\n",
      "Zeroed 4.37 carbon-equivalents, 40.15 remaining\n",
      "Timing step 2000: 69.74s (34.87 ms/step | 28.68 steps/s | this 500 steps: 29.08 steps/s)\n",
      "Timing step 2500: 87.01s (34.81 ms/step | 28.73 steps/s | this 500 steps: 28.94 steps/s)\n",
      "Step 2999: scaling = -1.0718e-03, chi^2 = 2.4724e-02\n",
      "Stray feature removal: Map has 25 blobs, removing 24 of them\n",
      "Zeroed 1.47 carbon-equivalents, 39.70 remaining\n",
      "Timing step 3000: 104.51s (34.84 ms/step | 28.71 steps/s | this 500 steps: 28.58 steps/s)\n",
      "Timing step 3500: 122.36s (34.96 ms/step | 28.60 steps/s | this 500 steps: 28.00 steps/s)\n",
      "Step 3999: scaling = -3.1598e-04, chi^2 = 2.4533e-02\n",
      "Stray feature removal: Map has 22 blobs, removing 21 of them\n",
      "Zeroed 1.09 carbon-equivalents, 42.49 remaining\n",
      "Timing step 4000: 139.83s (34.96 ms/step | 28.61 steps/s | this 500 steps: 28.62 steps/s)\n",
      "Timing step 4500: 157.27s (34.95 ms/step | 28.61 steps/s | this 500 steps: 28.67 steps/s)\n",
      "Step 4999: scaling = 1.9254e-04, chi^2 = 2.3632e-022\n",
      "Stray feature removal: Map has 34 blobs, removing 33 of them\n",
      "Zeroed 1.49 carbon-equivalents, 38.77 remaining\n",
      "Timing step 5000: 175.54s (35.11 ms/step | 28.48 steps/s | this 500 steps: 27.38 steps/s)\n",
      "Timing step 5500: 193.19s (35.13 ms/step | 28.47 steps/s | this 500 steps: 28.32 steps/s)\n",
      "Step 5999: scaling = -9.4849e-04, chi^2 = 2.3002e-02\n",
      "Stray feature removal: Map has 33 blobs, removing 32 of them\n",
      "Zeroed 1.42 carbon-equivalents, 37.41 remaining\n",
      "Timing step 6000: 210.89s (35.15 ms/step | 28.45 steps/s | this 500 steps: 28.25 steps/s)\n",
      "Timing step 6500: 228.66s (35.18 ms/step | 28.43 steps/s | this 500 steps: 28.14 steps/s)\n",
      "Step 6999: scaling = -9.0565e-04, chi^2 = 2.2481e-02\n",
      "Stray feature removal: Map has 39 blobs, removing 38 of them\n",
      "Zeroed 1.56 carbon-equivalents, 37.22 remaining\n",
      "Timing step 7000: 246.16s (35.17 ms/step | 28.44 steps/s | this 500 steps: 28.58 steps/s)\n",
      "Timing step 7500: 263.72s (35.16 ms/step | 28.44 steps/s | this 500 steps: 28.48 steps/s)\n",
      "Step 7999: scaling = 1.5365e-04, chi^2 = 2.2180e-022\n",
      "Stray feature removal: Map has 15 blobs, removing 14 of them\n",
      "Zeroed 0.59 carbon-equivalents, 35.09 remaining\n",
      "Timing step 8000: 281.50s (35.19 ms/step | 28.42 steps/s | this 500 steps: 28.13 steps/s)\n",
      "Timing step 8500: 299.22s (35.20 ms/step | 28.41 steps/s | this 500 steps: 28.22 steps/s)\n",
      "Step 8999: scaling = -6.2465e-04, chi^2 = 2.2325e-02\n",
      "Stray feature removal: Map has 35 blobs, removing 34 of them\n",
      "Zeroed 1.28 carbon-equivalents, 37.91 remaining\n",
      "Timing step 9000: 316.54s (35.17 ms/step | 28.43 steps/s | this 500 steps: 28.86 steps/s)\n",
      "Timing step 9500: 333.85s (35.14 ms/step | 28.46 steps/s | this 500 steps: 28.89 steps/s)\n",
      "Step 9999: scaling = -1.5330e-04, chi^2 = 2.1914e-02\n",
      "Stray feature removal: Map has 37 blobs, removing 36 of them\n",
      "Zeroed 15.47 carbon-equivalents, 23.75 remaining\n",
      "Timing step 10000: 351.39s (35.14 ms/step | 28.46 steps/s | this 500 steps: 28.51 steps/s)\n",
      "Step 10000: scaling = 2.0979e-04, chi^2 = 2.1914e-02\n",
      "\n",
      "### Run 6 ###\n",
      "Initial scaling: 0.022\n",
      "1.1817753621893832 956221.1457705166 0.3346686256230931 4903\n",
      "Timing step 500: 17.70s (35.40 ms/step | 28.25 steps/s | this 500 steps: 28.25 steps/s)\n",
      "Step  999: scaling = 2.8384e-04, chi^2 = 2.9741e-022\n",
      "Stray feature removal: Map has 26 blobs, removing 25 of them\n",
      "Zeroed 1.30 carbon-equivalents, 47.82 remaining\n",
      "Timing step 1000: 34.69s (34.69 ms/step | 28.83 steps/s | this 500 steps: 29.43 steps/s)\n",
      "Timing step 1500: 51.92s (34.61 ms/step | 28.89 steps/s | this 500 steps: 29.01 steps/s)\n",
      "Step 1999: scaling = -1.0524e-04, chi^2 = 2.6060e-02\n",
      "Stray feature removal: Map has 33 blobs, removing 32 of them\n",
      "Zeroed 1.91 carbon-equivalents, 43.02 remaining\n",
      "Timing step 2000: 69.34s (34.67 ms/step | 28.84 steps/s | this 500 steps: 28.70 steps/s)\n",
      "Timing step 2500: 87.01s (34.80 ms/step | 28.73 steps/s | this 500 steps: 28.30 steps/s)\n",
      "Step 2999: scaling = -1.3698e-03, chi^2 = 2.4779e-02\n",
      "Stray feature removal: Map has 36 blobs, removing 35 of them\n",
      "Zeroed 1.87 carbon-equivalents, 43.18 remaining\n",
      "Timing step 3000: 104.76s (34.92 ms/step | 28.64 steps/s | this 500 steps: 28.17 steps/s)\n",
      "Timing step 3500: 122.22s (34.92 ms/step | 28.64 steps/s | this 500 steps: 28.64 steps/s)\n",
      "Step 3999: scaling = 7.6793e-04, chi^2 = 2.4374e-022\n",
      "Stray feature removal: Map has 32 blobs, removing 31 of them\n",
      "Zeroed 1.76 carbon-equivalents, 42.72 remaining\n",
      "Timing step 4000: 139.66s (34.91 ms/step | 28.64 steps/s | this 500 steps: 28.68 steps/s)\n",
      "Timing step 4500: 157.18s (34.93 ms/step | 28.63 steps/s | this 500 steps: 28.53 steps/s)\n",
      "Step 4999: scaling = 6.5796e-04, chi^2 = 2.3404e-022\n",
      "Stray feature removal: Map has 29 blobs, removing 28 of them\n",
      "Zeroed 1.66 carbon-equivalents, 41.04 remaining\n",
      "Timing step 5000: 174.63s (34.93 ms/step | 28.63 steps/s | this 500 steps: 28.66 steps/s)\n",
      "Timing step 5500: 192.09s (34.93 ms/step | 28.63 steps/s | this 500 steps: 28.63 steps/s)\n",
      "Step 5999: scaling = -7.7379e-05, chi^2 = 2.3454e-02\n",
      "Stray feature removal: Map has 31 blobs, removing 30 of them\n",
      "Zeroed 2.12 carbon-equivalents, 40.76 remaining\n",
      "Timing step 6000: 209.48s (34.91 ms/step | 28.64 steps/s | this 500 steps: 28.75 steps/s)\n",
      "Timing step 6500: 227.02s (34.93 ms/step | 28.63 steps/s | this 500 steps: 28.51 steps/s)\n",
      "Step 6999: scaling = -5.6570e-08, chi^2 = 2.2836e-02\n",
      "Stray feature removal: Map has 30 blobs, removing 29 of them\n",
      "Zeroed 2.02 carbon-equivalents, 39.67 remaining\n",
      "Timing step 7000: 244.23s (34.89 ms/step | 28.66 steps/s | this 500 steps: 29.05 steps/s)\n",
      "Timing step 7500: 261.67s (34.89 ms/step | 28.66 steps/s | this 500 steps: 28.68 steps/s)\n",
      "Step 7999: scaling = -1.0692e-04, chi^2 = 2.2567e-02\n",
      "Stray feature removal: Map has 33 blobs, removing 32 of them\n",
      "Zeroed 1.66 carbon-equivalents, 39.27 remaining\n",
      "Timing step 8000: 279.00s (34.87 ms/step | 28.67 steps/s | this 500 steps: 28.85 steps/s)\n",
      "Timing step 8500: 296.53s (34.89 ms/step | 28.67 steps/s | this 500 steps: 28.52 steps/s)\n",
      "Step 8999: scaling = 3.5249e-04, chi^2 = 2.3699e-022\n",
      "Stray feature removal: Map has 41 blobs, removing 40 of them\n",
      "Zeroed 3.69 carbon-equivalents, 35.61 remaining\n",
      "Timing step 9000: 313.98s (34.89 ms/step | 28.66 steps/s | this 500 steps: 28.65 steps/s)\n"
     ]
    },
    {
     "name": "stdout",
     "output_type": "stream",
     "text": [
      "Timing step 9500: 331.37s (34.88 ms/step | 28.67 steps/s | this 500 steps: 28.75 steps/s)\n",
      "Step 9999: scaling = 3.9501e-04, chi^2 = 2.2984e-022\n",
      "Stray feature removal: Map has 9 blobs, removing 8 of them\n",
      "Zeroed 15.21 carbon-equivalents, 20.76 remaining\n",
      "Timing step 10000: 348.71s (34.87 ms/step | 28.68 steps/s | this 500 steps: 28.83 steps/s)\n",
      "Step 10000: scaling = -9.5669e-04, chi^2 = 2.2980e-02\n",
      "\n",
      "### Run 7 ###\n",
      "Initial scaling: 0.022\n",
      "1.1817753621893832 955170.1482186391 0.33414389617428436 4903\n",
      "Step  199: scaling = 4.1111e-03, chi^2 = 5.1077e-022\r"
     ]
    }
   ],
   "source": [
    "weight_list = []\n",
    "chi_list = []\n",
    "for idx in range(10):\n",
    "    print(f'\\n\\n### Run {idx} ###')\n",
    "    weight, chi_trace, scale_trace, fine_timing_trace, final_S_calc = \\\n",
    "        refine(xyz, trial_list, allowed_points, S_calc_all, S_err, scatter, apo_mol, grid_spacing=spacing,\n",
    "               steps=10000, connectivity_step=1000, timing_step=500, weight_max=0.1,\n",
    "               struct_connectivity_A=3)#, input_weight=weight.copy())\n",
    "    weight_list.append(weight)\n",
    "    chi_list.append(chi_trace[-1])"
   ]
  },
  {
   "cell_type": "code",
   "execution_count": 221,
   "id": "f5d12856",
   "metadata": {},
   "outputs": [],
   "source": [
    "weight_list = np.array(weight_list)"
   ]
  },
  {
   "cell_type": "code",
   "execution_count": 222,
   "id": "5e4a8bac",
   "metadata": {},
   "outputs": [
    {
     "data": {
      "text/plain": [
       "(5508,)"
      ]
     },
     "execution_count": 222,
     "metadata": {},
     "output_type": "execute_result"
    }
   ],
   "source": [
    "weight_list.mean(0).shape"
   ]
  },
  {
   "cell_type": "code",
   "execution_count": 223,
   "id": "dde0ccca",
   "metadata": {},
   "outputs": [],
   "source": [
    "for idx, w in enumerate(weight_list):\n",
    "    write_out(xyz, w, f'data/2CM7/run{idx}.pdb')"
   ]
  },
  {
   "cell_type": "code",
   "execution_count": 224,
   "id": "7f25c511",
   "metadata": {},
   "outputs": [],
   "source": [
    "write_out(xyz, weight_list.mean(0), 'data/2CM7/run_average.pdb', grid='data/2CM7/grid.pdb', op=allowed_points)"
   ]
  },
  {
   "cell_type": "code",
   "execution_count": 225,
   "id": "a89b66a5",
   "metadata": {},
   "outputs": [
    {
     "data": {
      "text/plain": [
       "array([0., 0., 0., ..., 0., 0., 0.])"
      ]
     },
     "execution_count": 225,
     "metadata": {},
     "output_type": "execute_result"
    }
   ],
   "source": [
    "(1/np.array(chi_list)[:, None] * weight_list).sum(0) / (1/np.array(chi_list)).sum()"
   ]
  },
  {
   "cell_type": "code",
   "execution_count": 226,
   "id": "84d56143",
   "metadata": {},
   "outputs": [
    {
     "data": {
      "text/plain": [
       "75.37869673230753"
      ]
     },
     "execution_count": 226,
     "metadata": {},
     "output_type": "execute_result"
    }
   ],
   "source": [
    "(1/np.array(chi_list)[:, None] * weight_list).sum(0).max()"
   ]
  },
  {
   "cell_type": "code",
   "execution_count": 227,
   "id": "56d1779b",
   "metadata": {},
   "outputs": [
    {
     "data": {
      "text/plain": [
       "array([39.22850709, 36.61297311, 43.10010482, 36.84120177, 41.1767749 ,\n",
       "       33.30226128, 46.68359547, 36.93448556, 42.01172661, 42.59744262])"
      ]
     },
     "execution_count": 227,
     "metadata": {},
     "output_type": "execute_result"
    }
   ],
   "source": [
    "1/np.array(chi_list)"
   ]
  },
  {
   "cell_type": "code",
   "execution_count": 228,
   "id": "00055e35",
   "metadata": {},
   "outputs": [],
   "source": [
    "weighted_weight = (1/np.array(chi_list)[:, None] * weight_list).sum(0) / (1/np.array(chi_list)).sum()\n",
    "write_out(xyz, weighted_weight, 'data/2CM7/run_average_weighted.pdb', grid='data/2CM7/grid.pdb', op=allowed_points)"
   ]
  },
  {
   "cell_type": "code",
   "execution_count": 229,
   "id": "2f4dab2b",
   "metadata": {},
   "outputs": [
    {
     "data": {
      "text/plain": [
       "Text(0, 0.5, 'Timing (ms)')"
      ]
     },
     "execution_count": 229,
     "metadata": {},
     "output_type": "execute_result"
    },
    {
     "data": {
      "image/png": "[encoded data removed]",
      "text/plain": [
       "<Figure size 640x480 with 3 Axes>"
      ]
     },
     "metadata": {},
     "output_type": "display_data"
    }
   ],
   "source": [
    "import matplotlib.pyplot as plt\n",
    "fig, ax = plt.subplots(3, 1)\n",
    "ax[0].plot(chi_trace)\n",
    "ax[0].set_yscale('log')\n",
    "ax[0].set_ylabel('chi2')\n",
    "ax[1].plot(scale_trace,'.', markersize=2)\n",
    "ax[1].set_ylabel('scaling')\n",
    "ax[2].plot(np.array(fine_timing_trace)*1000,'.', markersize=2)\n",
    "ax[2].set_ylabel('Timing (ms)')\n"
   ]
  },
  {
   "cell_type": "code",
   "execution_count": 230,
   "id": "16a323c0",
   "metadata": {
    "scrolled": false
   },
   "outputs": [
    {
     "data": {
      "text/plain": [
       "<matplotlib.legend.Legend at 0x7fa7d3875ee0>"
      ]
     },
     "execution_count": 230,
     "metadata": {},
     "output_type": "execute_result"
    },
    {
     "data": {
      "image/png": "[encoded data removed]",
      "text/plain": [
       "<Figure size 640x480 with 1 Axes>"
      ]
     },
     "metadata": {},
     "output_type": "display_data"
    }
   ],
   "source": [
    "\n",
    "plt.plot(scatter.q, S_calc_all, label='target')\n",
    "plt.yscale('log')\n",
    "plt.plot(scatter.q, S_calc_pro_before, label='before')\n",
    "plt.plot(scatter.q, final_S_calc, label='after')\n",
    "# plt.plot(scatter.q, S_calc_trial, label='chain B')\n",
    "# plt.plot(scatter.q, S_calc_cross, label='chain A x chain B')\n",
    "# plt.plot(scatter.q, S_calc_pro + S_calc_trial + 2 * S_calc_cross, label='trial')\n",
    "plt.legend()"
   ]
  },
  {
   "cell_type": "code",
   "execution_count": 231,
   "id": "1f259e8d",
   "metadata": {},
   "outputs": [
    {
     "data": {
      "text/plain": [
       "<matplotlib.legend.Legend at 0x7fa7d3be4eb0>"
      ]
     },
     "execution_count": 231,
     "metadata": {},
     "output_type": "execute_result"
    },
    {
     "data": {
      "image/png": "[encoded data removed]",
      "text/plain": [
       "<Figure size 640x480 with 1 Axes>"
      ]
     },
     "metadata": {},
     "output_type": "display_data"
    }
   ],
   "source": [
    "# plt.plot(scatter.q, S_calc_all, label='target')\n",
    "# plt.yscale('log')\n",
    "plt.plot(scatter.q, S_calc_all -S_calc_pro_before, label='before')\n",
    "plt.plot(scatter.q, S_calc_all - final_S_calc, label='after')\n",
    "# plt.plot(scatter.q, S_calc_trial, label='chain B')\n",
    "# plt.plot(scatter.q, S_calc_cross, label='chain A x chain B')\n",
    "# plt.plot(scatter.q, S_calc_pro + S_calc_trial + 2 * S_calc_cross, label='separate')\n",
    "plt.legend()"
   ]
  },
  {
   "cell_type": "code",
   "execution_count": 180,
   "id": "d908d7d8",
   "metadata": {},
   "outputs": [
    {
     "ename": "NameError",
     "evalue": "name 'S_calc_pro' is not defined",
     "output_type": "error",
     "traceback": [
      "\u001b[0;31m---------------------------------------------------------------------------\u001b[0m",
      "\u001b[0;31mNameError\u001b[0m                                 Traceback (most recent call last)",
      "Cell \u001b[0;32mIn[180], line 2\u001b[0m\n\u001b[1;32m      1\u001b[0m \u001b[38;5;28;01mimport\u001b[39;00m \u001b[38;5;21;01mmatplotlib\u001b[39;00m\u001b[38;5;21;01m.\u001b[39;00m\u001b[38;5;21;01mpyplot\u001b[39;00m \u001b[38;5;28;01mas\u001b[39;00m \u001b[38;5;21;01mplt\u001b[39;00m\n\u001b[0;32m----> 2\u001b[0m plt\u001b[38;5;241m.\u001b[39mplot(scatter\u001b[38;5;241m.\u001b[39mq, (S_calc_all \u001b[38;5;241m-\u001b[39m \u001b[43mS_calc_pro\u001b[49m) \u001b[38;5;241m/\u001b[39m S_calc_all)\n",
      "\u001b[0;31mNameError\u001b[0m: name 'S_calc_pro' is not defined"
     ]
    }
   ],
   "source": [
    "import matplotlib.pyplot as plt\n",
    "plt.plot(scatter.q, (S_calc_all - S_calc_pro) / S_calc_all)"
   ]
  },
  {
   "cell_type": "code",
   "execution_count": null,
   "id": "8b0ecfbe",
   "metadata": {},
   "outputs": [],
   "source": []
  },
  {
   "cell_type": "code",
   "execution_count": null,
   "id": "3613b2dc",
   "metadata": {},
   "outputs": [],
   "source": []
  },
  {
   "cell_type": "code",
   "execution_count": null,
   "id": "b381a8d1",
   "metadata": {},
   "outputs": [],
   "source": []
  },
  {
   "cell_type": "code",
   "execution_count": null,
   "id": "a0cbaba7",
   "metadata": {},
   "outputs": [],
   "source": []
  }
 ],
 "metadata": {
  "kernelspec": {
   "display_name": "Python 3 (ipykernel)",
   "language": "python",
   "name": "python3"
  },
  "language_info": {
   "codemirror_mode": {
    "name": "ipython",
    "version": 3
   },
   "file_extension": ".py",
   "mimetype": "text/x-python",
   "name": "python",
   "nbconvert_exporter": "python",
   "pygments_lexer": "ipython3",
   "version": "3.8.16"
  }
 },
 "nbformat": 4,
 "nbformat_minor": 5
}
